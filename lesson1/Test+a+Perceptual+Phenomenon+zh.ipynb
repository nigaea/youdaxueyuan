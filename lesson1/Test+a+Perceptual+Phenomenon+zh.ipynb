{
 "cells": [
  {
   "cell_type": "markdown",
   "metadata": {},
   "source": [
    "### 统计学：检验心理学现象\n",
    "\n",
    "在下方单元格中回答问题并执行相关代码，你可以 [参考项目指导](https://github.com/udacity/new-dand-advanced-china/blob/master/%E6%A3%80%E9%AA%8C%E5%BF%83%E7%90%86%E5%AD%A6%E7%8E%B0%E8%B1%A1/%E7%BB%9F%E8%AE%A1%E5%AD%A6%EF%BC%9A%E6%A3%80%E9%AA%8C%E5%BF%83%E7%90%86%E5%AD%A6%E7%8E%B0%E8%B1%A1.md) 并在正式提交前查看 [项目要求](https://review.udacity.com/#!/rubrics/305/view)。提交时请将 Jupyter notebook 导出成 HTML 或者 PDF 进行提交（File -> Download As）。\n",
    "\n",
    "背景信息\n",
    "\n",
    "在一个Stroop （斯特鲁普）任务中，参与者得到了一列文字，每个文字都用一种油墨颜色展示。参与者的任务是将文字的打印颜色大声说出来。这项任务有两个条件：一致文字条件，和不一致文字条件。在一致文字条件中，显示的文字是与它们的打印颜色匹配的颜色词，如“红色”、“蓝色”。在不一致文字条件中，显示的文字是与它们的打印颜色不匹配的颜色词，如“紫色”、“橙色”。在每个情况中，我们将计量说出同等大小的列表中的墨色名称的时间。每位参与者必须全部完成并记录每种条件下使用的时间。\n",
    "\n",
    "调查问题\n",
    "\n",
    "作为一般说明，请确保记录你在创建项目时使用或参考的任何资源。作为项目提交的一部分，你将需要报告信息来源。\n",
    "\n",
    "(1) 我们的自变量是什么？因变量是什么？"
   ]
  },
  {
   "cell_type": "markdown",
   "metadata": {},
   "source": [
    "自变量:文字条件(一致,不一致)\n",
    "因变量:说出同等大小的列表中的墨色名称的时间"
   ]
  },
  {
   "cell_type": "markdown",
   "metadata": {},
   "source": [
    "(2) 此任务的适当假设集是什么？你需要以文字和数学符号方式对假设集中的零假设和对立假设加以说明，并对数学符号进行定义。你想执行什么类型的统计检验？为你的选择提供正当理由（比如，为何该实验满足你所选统计检验的前置条件）。"
   ]
  },
  {
   "cell_type": "markdown",
   "metadata": {},
   "source": [
    "背景:\n",
    "此实验展示了人对事物的感知过程。当有符合经验的事物出现时，大脑能很快做出判断；反之，若违背经验的事物出现时，大脑会经过加工修正处理后对事物进行判断,反应时间加长。\n",
    "\n",
    "零假设H0：文字特征和原来相同和不同,不会影响人的认知.\n",
    "对立假设Ha：文字特征和原来相同和不同,会影响人的认知.\n",
    "𝞵(Congruent):代表文字特征和原来相同时,认知时间的总体均值\n",
    "𝞵(Incongruent):代表文字特征和原来不相同时,认知时间的总体均值\n",
    "H0:𝞵(Congruent)-𝞵(Incongruent)=0,在一定系统误差内,相同不同文字特征所回答出的时间相等.\n",
    "Ha:𝞵(Congruent)-𝞵(Incongruent)!=0\n",
    "预先设定的检验水准为0.05，记作α，通常取α=0.05\n",
    "\n",
    "统计检验类型:配对t检验\n",
    "选择理由:两样本是配对的，而且抽样样本量小于30,样本数量比较小,总体方差未知，抽样结果相近正太分布.\n",
    "Q2b问题回复：t检验需要满足正态分布和方差齐性。正太分布性比较容易理解。方差齐性，独立样本t检验计算t值的时候需要合并方差，合并方差的前提是两组数据的方差来自同一总体，如果不满足这个条件，等于相加的两个方差单位不同，而单位不同的数据是不可以直接相加的。所以方差齐性也必须满足。\n",
    "\n"
   ]
  },
  {
   "cell_type": "markdown",
   "metadata": {},
   "source": [
    "现在轮到你自行尝试 Stroop 任务了。前往此链接，其中包含一个基于 Java 的小程序，专门用于执行 Stroop 任务。记录你收到的任务时间（你无需将时间提交到网站）。现在下载此数据集，其中包含一些任务参与者的结果。数据集的每行包含一名参与者的表现，第一个数字代表他们的一致任务结果，第二个数字代表不一致任务结果。\n",
    "\n",
    "(3) 报告关于此数据集的一些描述性统计。包含至少一个集中趋势测量和至少一个变异测量。"
   ]
  },
  {
   "cell_type": "code",
   "execution_count": 27,
   "metadata": {},
   "outputs": [
    {
     "name": "stdout",
     "output_type": "stream",
     "text": [
      "    Congruent  Incongruent\n",
      "0      12.079       19.278\n",
      "1      16.791       18.741\n",
      "2       9.564       21.214\n",
      "3       8.630       15.687\n",
      "4      14.669       22.803\n",
      "5      12.238       20.878\n",
      "6      14.692       24.572\n",
      "7       8.987       17.394\n",
      "8       9.401       20.762\n",
      "9      14.480       26.282\n",
      "10     22.328       24.524\n",
      "11     15.298       18.644\n",
      "12     15.073       17.510\n",
      "13     16.929       20.330\n",
      "14     18.200       35.255\n",
      "15     12.130       22.158\n",
      "16     18.495       25.139\n",
      "17     10.639       20.429\n",
      "18     11.344       17.425\n",
      "19     12.369       34.288\n",
      "20     12.944       23.894\n",
      "21     14.233       17.960\n",
      "22     19.710       22.058\n",
      "23     16.004       21.157\n",
      "14.051125\n",
      "22.0159166667\n",
      "14.3565\n",
      "21.0175\n",
      "3.55935795765\n",
      "4.79705712247\n"
     ]
    },
    {
     "data": {
      "text/html": [
       "<div>\n",
       "<style scoped>\n",
       "    .dataframe tbody tr th:only-of-type {\n",
       "        vertical-align: middle;\n",
       "    }\n",
       "\n",
       "    .dataframe tbody tr th {\n",
       "        vertical-align: top;\n",
       "    }\n",
       "\n",
       "    .dataframe thead th {\n",
       "        text-align: right;\n",
       "    }\n",
       "</style>\n",
       "<table border=\"1\" class=\"dataframe\">\n",
       "  <thead>\n",
       "    <tr style=\"text-align: right;\">\n",
       "      <th></th>\n",
       "      <th>Congruent</th>\n",
       "      <th>Incongruent</th>\n",
       "    </tr>\n",
       "  </thead>\n",
       "  <tbody>\n",
       "    <tr>\n",
       "      <th>count</th>\n",
       "      <td>24.000000</td>\n",
       "      <td>24.000000</td>\n",
       "    </tr>\n",
       "    <tr>\n",
       "      <th>mean</th>\n",
       "      <td>14.051125</td>\n",
       "      <td>22.015917</td>\n",
       "    </tr>\n",
       "    <tr>\n",
       "      <th>std</th>\n",
       "      <td>3.559358</td>\n",
       "      <td>4.797057</td>\n",
       "    </tr>\n",
       "    <tr>\n",
       "      <th>min</th>\n",
       "      <td>8.630000</td>\n",
       "      <td>15.687000</td>\n",
       "    </tr>\n",
       "    <tr>\n",
       "      <th>25%</th>\n",
       "      <td>11.895250</td>\n",
       "      <td>18.716750</td>\n",
       "    </tr>\n",
       "    <tr>\n",
       "      <th>50%</th>\n",
       "      <td>14.356500</td>\n",
       "      <td>21.017500</td>\n",
       "    </tr>\n",
       "    <tr>\n",
       "      <th>75%</th>\n",
       "      <td>16.200750</td>\n",
       "      <td>24.051500</td>\n",
       "    </tr>\n",
       "    <tr>\n",
       "      <th>max</th>\n",
       "      <td>22.328000</td>\n",
       "      <td>35.255000</td>\n",
       "    </tr>\n",
       "  </tbody>\n",
       "</table>\n",
       "</div>"
      ],
      "text/plain": [
       "       Congruent  Incongruent\n",
       "count  24.000000    24.000000\n",
       "mean   14.051125    22.015917\n",
       "std     3.559358     4.797057\n",
       "min     8.630000    15.687000\n",
       "25%    11.895250    18.716750\n",
       "50%    14.356500    21.017500\n",
       "75%    16.200750    24.051500\n",
       "max    22.328000    35.255000"
      ]
     },
     "execution_count": 27,
     "metadata": {},
     "output_type": "execute_result"
    }
   ],
   "source": [
    "import pandas\n",
    "\n",
    "data = pandas.read_csv('stroopdata.csv')\n",
    "print(data)\n",
    "print(data.Congruent.mean())\n",
    "print(data.Incongruent.mean())\n",
    "print(data.Congruent.median())\n",
    "print(data.Incongruent.median())\n",
    "\n",
    "print(data.Congruent.std())\n",
    "print(data.Incongruent.std())\n",
    "data.describe()\n"
   ]
  },
  {
   "cell_type": "markdown",
   "metadata": {},
   "source": [
    "--答案写这里--"
   ]
  },
  {
   "cell_type": "markdown",
   "metadata": {},
   "source": [
    "(4) 提供显示样本数据分布的一个或两个可视化。用一两句话说明你从图中观察到的结果。"
   ]
  },
  {
   "cell_type": "code",
   "execution_count": 69,
   "metadata": {},
   "outputs": [
    {
     "data": {
      "image/png": "[encoded data removed]",
      "text/plain": [
       "<matplotlib.figure.Figure at 0x111a7f710>"
      ]
     },
     "metadata": {},
     "output_type": "display_data"
    },
    {
     "name": "stdout",
     "output_type": "stream",
     "text": [
      "可以看出不一致的文字会使样本中的所有人反应时间延长\n"
     ]
    }
   ],
   "source": [
    "import numpy\n",
    "from matplotlib import pyplot as plt\n",
    "\n",
    "bar_width = 0.35\n",
    "opacity = 0.4\n",
    "error_config = {'ecolor': '0.3'}\n",
    "\n",
    "x = numpy.arange(1,len(data)+1)\n",
    "y = data.Congruent\n",
    "plt.bar(x,\n",
    "        y,\n",
    "        bar_width,\n",
    "        alpha=opacity,\n",
    "        color='b',\n",
    "        error_kw=error_config,\n",
    "        label='Congruent')\n",
    "Y = data.Incongruent\n",
    "plt.bar(x+bar_width,\n",
    "        Y,\n",
    "        bar_width,\n",
    "        alpha=opacity,\n",
    "        color='r',\n",
    "        error_kw=error_config,\n",
    "        label='Incongruent')\n",
    "plt.xlabel('index')\n",
    "plt.ylabel('time')\n",
    "plt.title(\"Statistical chart\")\n",
    "plt.legend()\n",
    "plt.show()\n",
    "print(\"可以看出不一致的文字会使样本中的所有人反应时间延长\")\n"
   ]
  },
  {
   "cell_type": "code",
   "execution_count": 62,
   "metadata": {},
   "outputs": [
    {
     "data": {
      "image/png": "[encoded data removed]",
      "text/plain": [
       "<matplotlib.figure.Figure at 0x1133271d0>"
      ]
     },
     "metadata": {},
     "output_type": "display_data"
    },
    {
     "name": "stdout",
     "output_type": "stream",
     "text": [
      "通过均值比较可以看出不一致的文字会使样本中的所有人反应时间延长\n"
     ]
    }
   ],
   "source": [
    "plt.xticks([0.5,1.5],['congruent','incongruent'])\n",
    "plt.bar([0.5,1.5],height=[14.051125,22.0159166667],label='mean')\n",
    "plt.ylabel('time')\n",
    "plt.title(\"Mean Comparison\")\n",
    "plt.legend()\n",
    "plt.show()\n",
    "\n",
    "print(\"通过均值比较可以看出不一致的文字会使样本中的所有人反应时间延长\")"
   ]
  },
  {
   "cell_type": "markdown",
   "metadata": {},
   "source": [
    "--答案写这里--"
   ]
  },
  {
   "cell_type": "markdown",
   "metadata": {},
   "source": [
    "(5) 现在，执行统计测试并报告你的结果。你的置信水平和关键统计值是多少？你是否成功拒绝零假设？对试验任务得出一个结论。结果是否与你的期望一致？"
   ]
  },
  {
   "cell_type": "code",
   "execution_count": 73,
   "metadata": {
    "scrolled": false
   },
   "outputs": [
    {
     "name": "stdout",
     "output_type": "stream",
     "text": [
      "-7.96479166667\n",
      "-8.02070694411 4.10300058571e-08\n"
     ]
    }
   ],
   "source": [
    "from scipy import stats\n",
    "from scipy.stats import ttest_rel\n",
    "print((data.Congruent-data.Incongruent).mean())\n",
    "t,p = ttest_rel(data.Congruent,data.Incongruent)\n",
    "print(t,p) "
   ]
  },
  {
   "cell_type": "markdown",
   "metadata": {},
   "source": [
    "配对t检验\n",
    "置信水平95%,自由度n=23\n",
    "t=-8.02070694411\n",
    "p=4.10300058571e-08\n",
    "𝞵(Congruent-Incongruent)=-7.96479166667\n",
    "按照H0的假设,𝞵(Congruent-Incongruent)应该为0.P值为4.10300058571e-08,P小于0.05,也就是说明是小概率事件.小概率事件在一次试验中出现概率很小.从而拒绝原假设.\n",
    "结论:文字特征和原来相同和不同,会影响人的认知时间."
   ]
  },
  {
   "cell_type": "code",
   "execution_count": null,
   "metadata": {},
   "outputs": [],
   "source": [
    "参考资料说明:\n",
    "https://www.jianshu.com/p/33da6de174f2\n",
    "https://segmentfault.com/a/1190000007626742\n",
    "http://www.jikexueyuan.com/course/2382_1.html?ss=1\n",
    "https://segmentfault.com/q/1010000009010179\n",
    "https://docs.scipy.org/doc/scipy-0.14.0/reference/generated/scipy.stats.ttest_rel.html\n",
    "https://www.statsdirect.com/help/parametric_methods/paired_t.htm\n",
    "https://support.minitab.com/zh-cn/minitab/18/help-and-how-to/statistics/basic-statistics/supporting-topics/basics/what-is-a-hypothesis-test/"
   ]
  }
 ],
 "metadata": {
  "anaconda-cloud": {},
  "kernelspec": {
   "display_name": "Python 3",
   "language": "python",
   "name": "python3"
  },
  "language_info": {
   "codemirror_mode": {
    "name": "ipython",
    "version": 3
   },
   "file_extension": ".py",
   "mimetype": "text/x-python",
   "name": "python",
   "nbconvert_exporter": "python",
   "pygments_lexer": "ipython3",
   "version": "3.6.4"
  }
 },
 "nbformat": 4,
 "nbformat_minor": 2
}
