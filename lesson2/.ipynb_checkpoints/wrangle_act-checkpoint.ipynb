{
 "cells": [
  {
   "cell_type": "markdown",
   "metadata": {},
   "source": [
    "## 1 获取数据"
   ]
  },
  {
   "cell_type": "markdown",
   "metadata": {},
   "source": [
    "### 1.1 获取数据通过tweepy"
   ]
  },
  {
   "cell_type": "code",
   "execution_count": 61,
   "metadata": {},
   "outputs": [],
   "source": [
    "# from tweepy.streaming import StreamListener\n",
    "# from tweepy import OAuthHandler\n",
    "# from tweepy import Stream\n",
    "# import json\n",
    "\n",
    "# consumer_key = 'kN16oo6riZkcfIDUXJbGPOCdk'\n",
    "# consumer_secret = 'KaBtiZzTgbkC1rGncfNvt3UeMGgC7wsTWmbNB0ybvWtzrJjH0w'\n",
    "# access_token = '973063616730558469-vLomcJQ9TJNj1VbcREi9ZY2Xw4RbJdn'\n",
    "# access_secret = 'dutdLjqzgzWP1LN8vsWPkeKsZPIRezBusJrvcozeGiEii'\n",
    "\n",
    "\n",
    "# class StdOutListener(StreamListener):\n",
    "#     def on_status(self, status):\n",
    "#         print(status.text)\n",
    "#         return True\n",
    "        \n",
    "#     def on_data(self, data):\n",
    "#         try:\n",
    "#             with open('tweet_json.txt','a') as f:\n",
    "#                 f.write(data)\n",
    "#                 return True\n",
    "#         except BaseException as e:\n",
    "#             print(\"Error on_data:%s\" % str(e))\n",
    "#         return True\n",
    "\n",
    "#     def on_error(self, status):\n",
    "#         print(status)\n",
    "#         return True\n",
    "\n",
    "\n",
    "# l = StdOutListener()\n",
    "# auth = OAuthHandler(consumer_key, consumer_secret)\n",
    "# auth.set_access_token(access_token, access_secret)\n",
    "# stream = Stream(auth, l)\n",
    "# stream.filter(track=['dog_rates'])\n",
    "'''\n",
    "使用中文版看的，第一次下载了dog_rates，并用df = pd.read_json('tweet_json.txt',lines=True)读取了数据，然后清洗dataframe。\n",
    "发现难度太大了，群里咨询后才发现没有读懂问题。\n",
    "'''"
   ]
  },
  {
   "cell_type": "markdown",
   "metadata": {},
   "source": [
    "### 1.2 获取数据通过CSV"
   ]
  },
  {
   "cell_type": "code",
   "execution_count": 3,
   "metadata": {},
   "outputs": [],
   "source": [
    "import pandas as pd\n",
    "import matplotlib.pyplot as plt\n",
    "import numpy as np"
   ]
  },
  {
   "cell_type": "code",
   "execution_count": 168,
   "metadata": {},
   "outputs": [
    {
     "data": {
      "text/html": [
       "<div>\n",
       "<style scoped>\n",
       "    .dataframe tbody tr th:only-of-type {\n",
       "        vertical-align: middle;\n",
       "    }\n",
       "\n",
       "    .dataframe tbody tr th {\n",
       "        vertical-align: top;\n",
       "    }\n",
       "\n",
       "    .dataframe thead th {\n",
       "        text-align: right;\n",
       "    }\n",
       "</style>\n",
       "<table border=\"1\" class=\"dataframe\">\n",
       "  <thead>\n",
       "    <tr style=\"text-align: right;\">\n",
       "      <th></th>\n",
       "      <th>tweet_id</th>\n",
       "      <th>in_reply_to_status_id</th>\n",
       "      <th>in_reply_to_user_id</th>\n",
       "      <th>timestamp</th>\n",
       "      <th>source</th>\n",
       "      <th>text</th>\n",
       "      <th>retweeted_status_id</th>\n",
       "      <th>retweeted_status_user_id</th>\n",
       "      <th>retweeted_status_timestamp</th>\n",
       "      <th>expanded_urls</th>\n",
       "      <th>rating_numerator</th>\n",
       "      <th>rating_denominator</th>\n",
       "      <th>name</th>\n",
       "      <th>doggo</th>\n",
       "      <th>floofer</th>\n",
       "      <th>pupper</th>\n",
       "      <th>puppo</th>\n",
       "    </tr>\n",
       "  </thead>\n",
       "  <tbody>\n",
       "    <tr>\n",
       "      <th>0</th>\n",
       "      <td>892420643555336193</td>\n",
       "      <td>NaN</td>\n",
       "      <td>NaN</td>\n",
       "      <td>2017-08-01 16:23:56 +0000</td>\n",
       "      <td>&lt;a href=\"http://twitter.com/download/iphone\" r...</td>\n",
       "      <td>This is Phineas. He's a mystical boy. Only eve...</td>\n",
       "      <td>NaN</td>\n",
       "      <td>NaN</td>\n",
       "      <td>NaN</td>\n",
       "      <td>https://twitter.com/dog_rates/status/892420643...</td>\n",
       "      <td>13</td>\n",
       "      <td>10</td>\n",
       "      <td>Phineas</td>\n",
       "      <td>None</td>\n",
       "      <td>None</td>\n",
       "      <td>None</td>\n",
       "      <td>None</td>\n",
       "    </tr>\n",
       "    <tr>\n",
       "      <th>1</th>\n",
       "      <td>892177421306343426</td>\n",
       "      <td>NaN</td>\n",
       "      <td>NaN</td>\n",
       "      <td>2017-08-01 00:17:27 +0000</td>\n",
       "      <td>&lt;a href=\"http://twitter.com/download/iphone\" r...</td>\n",
       "      <td>This is Tilly. She's just checking pup on you....</td>\n",
       "      <td>NaN</td>\n",
       "      <td>NaN</td>\n",
       "      <td>NaN</td>\n",
       "      <td>https://twitter.com/dog_rates/status/892177421...</td>\n",
       "      <td>13</td>\n",
       "      <td>10</td>\n",
       "      <td>Tilly</td>\n",
       "      <td>None</td>\n",
       "      <td>None</td>\n",
       "      <td>None</td>\n",
       "      <td>None</td>\n",
       "    </tr>\n",
       "    <tr>\n",
       "      <th>2</th>\n",
       "      <td>891815181378084864</td>\n",
       "      <td>NaN</td>\n",
       "      <td>NaN</td>\n",
       "      <td>2017-07-31 00:18:03 +0000</td>\n",
       "      <td>&lt;a href=\"http://twitter.com/download/iphone\" r...</td>\n",
       "      <td>This is Archie. He is a rare Norwegian Pouncin...</td>\n",
       "      <td>NaN</td>\n",
       "      <td>NaN</td>\n",
       "      <td>NaN</td>\n",
       "      <td>https://twitter.com/dog_rates/status/891815181...</td>\n",
       "      <td>12</td>\n",
       "      <td>10</td>\n",
       "      <td>Archie</td>\n",
       "      <td>None</td>\n",
       "      <td>None</td>\n",
       "      <td>None</td>\n",
       "      <td>None</td>\n",
       "    </tr>\n",
       "    <tr>\n",
       "      <th>3</th>\n",
       "      <td>891689557279858688</td>\n",
       "      <td>NaN</td>\n",
       "      <td>NaN</td>\n",
       "      <td>2017-07-30 15:58:51 +0000</td>\n",
       "      <td>&lt;a href=\"http://twitter.com/download/iphone\" r...</td>\n",
       "      <td>This is Darla. She commenced a snooze mid meal...</td>\n",
       "      <td>NaN</td>\n",
       "      <td>NaN</td>\n",
       "      <td>NaN</td>\n",
       "      <td>https://twitter.com/dog_rates/status/891689557...</td>\n",
       "      <td>13</td>\n",
       "      <td>10</td>\n",
       "      <td>Darla</td>\n",
       "      <td>None</td>\n",
       "      <td>None</td>\n",
       "      <td>None</td>\n",
       "      <td>None</td>\n",
       "    </tr>\n",
       "    <tr>\n",
       "      <th>4</th>\n",
       "      <td>891327558926688256</td>\n",
       "      <td>NaN</td>\n",
       "      <td>NaN</td>\n",
       "      <td>2017-07-29 16:00:24 +0000</td>\n",
       "      <td>&lt;a href=\"http://twitter.com/download/iphone\" r...</td>\n",
       "      <td>This is Franklin. He would like you to stop ca...</td>\n",
       "      <td>NaN</td>\n",
       "      <td>NaN</td>\n",
       "      <td>NaN</td>\n",
       "      <td>https://twitter.com/dog_rates/status/891327558...</td>\n",
       "      <td>12</td>\n",
       "      <td>10</td>\n",
       "      <td>Franklin</td>\n",
       "      <td>None</td>\n",
       "      <td>None</td>\n",
       "      <td>None</td>\n",
       "      <td>None</td>\n",
       "    </tr>\n",
       "  </tbody>\n",
       "</table>\n",
       "</div>"
      ],
      "text/plain": [
       "             tweet_id  in_reply_to_status_id  in_reply_to_user_id  \\\n",
       "0  892420643555336193                    NaN                  NaN   \n",
       "1  892177421306343426                    NaN                  NaN   \n",
       "2  891815181378084864                    NaN                  NaN   \n",
       "3  891689557279858688                    NaN                  NaN   \n",
       "4  891327558926688256                    NaN                  NaN   \n",
       "\n",
       "                   timestamp  \\\n",
       "0  2017-08-01 16:23:56 +0000   \n",
       "1  2017-08-01 00:17:27 +0000   \n",
       "2  2017-07-31 00:18:03 +0000   \n",
       "3  2017-07-30 15:58:51 +0000   \n",
       "4  2017-07-29 16:00:24 +0000   \n",
       "\n",
       "                                              source  \\\n",
       "0  <a href=\"http://twitter.com/download/iphone\" r...   \n",
       "1  <a href=\"http://twitter.com/download/iphone\" r...   \n",
       "2  <a href=\"http://twitter.com/download/iphone\" r...   \n",
       "3  <a href=\"http://twitter.com/download/iphone\" r...   \n",
       "4  <a href=\"http://twitter.com/download/iphone\" r...   \n",
       "\n",
       "                                                text  retweeted_status_id  \\\n",
       "0  This is Phineas. He's a mystical boy. Only eve...                  NaN   \n",
       "1  This is Tilly. She's just checking pup on you....                  NaN   \n",
       "2  This is Archie. He is a rare Norwegian Pouncin...                  NaN   \n",
       "3  This is Darla. She commenced a snooze mid meal...                  NaN   \n",
       "4  This is Franklin. He would like you to stop ca...                  NaN   \n",
       "\n",
       "   retweeted_status_user_id retweeted_status_timestamp  \\\n",
       "0                       NaN                        NaN   \n",
       "1                       NaN                        NaN   \n",
       "2                       NaN                        NaN   \n",
       "3                       NaN                        NaN   \n",
       "4                       NaN                        NaN   \n",
       "\n",
       "                                       expanded_urls  rating_numerator  \\\n",
       "0  https://twitter.com/dog_rates/status/892420643...                13   \n",
       "1  https://twitter.com/dog_rates/status/892177421...                13   \n",
       "2  https://twitter.com/dog_rates/status/891815181...                12   \n",
       "3  https://twitter.com/dog_rates/status/891689557...                13   \n",
       "4  https://twitter.com/dog_rates/status/891327558...                12   \n",
       "\n",
       "   rating_denominator      name doggo floofer pupper puppo  \n",
       "0                  10   Phineas  None    None   None  None  \n",
       "1                  10     Tilly  None    None   None  None  \n",
       "2                  10    Archie  None    None   None  None  \n",
       "3                  10     Darla  None    None   None  None  \n",
       "4                  10  Franklin  None    None   None  None  "
      ]
     },
     "execution_count": 168,
     "metadata": {},
     "output_type": "execute_result"
    }
   ],
   "source": [
    "twitter = pd.read_csv('twitter-archive-enhanced.csv')\n",
    "twitter.head()"
   ]
  },
  {
   "cell_type": "code",
   "execution_count": 104,
   "metadata": {},
   "outputs": [
    {
     "name": "stdout",
     "output_type": "stream",
     "text": [
      "<class 'pandas.core.frame.DataFrame'>\n",
      "RangeIndex: 2356 entries, 0 to 2355\n",
      "Data columns (total 17 columns):\n",
      "tweet_id                      2356 non-null int64\n",
      "in_reply_to_status_id         78 non-null float64\n",
      "in_reply_to_user_id           78 non-null float64\n",
      "timestamp                     2356 non-null object\n",
      "source                        2356 non-null object\n",
      "text                          2356 non-null object\n",
      "retweeted_status_id           181 non-null float64\n",
      "retweeted_status_user_id      181 non-null float64\n",
      "retweeted_status_timestamp    181 non-null object\n",
      "expanded_urls                 2297 non-null object\n",
      "rating_numerator              2356 non-null int64\n",
      "rating_denominator            2356 non-null int64\n",
      "name                          2356 non-null object\n",
      "doggo                         2356 non-null object\n",
      "floofer                       2356 non-null object\n",
      "pupper                        2356 non-null object\n",
      "puppo                         2356 non-null object\n",
      "dtypes: float64(4), int64(3), object(10)\n",
      "memory usage: 313.0+ KB\n"
     ]
    }
   ],
   "source": [
    "twitter.info()"
   ]
  },
  {
   "cell_type": "markdown",
   "metadata": {},
   "source": [
    "### 1.3 获取图片URL"
   ]
  },
  {
   "cell_type": "code",
   "execution_count": 50,
   "metadata": {},
   "outputs": [],
   "source": [
    "import requests"
   ]
  },
  {
   "cell_type": "code",
   "execution_count": 55,
   "metadata": {},
   "outputs": [],
   "source": [
    "url = 'https://raw.githubusercontent.com/udacity/new-dand-advanced-china/master/%E6%95%B0%E6%8D%AE%E6%B8%85%E6%B4%97/WeRateDogs%E9%A1%B9%E7%9B%AE/image-predictions.tsv'\n",
    "r = requests.get(url)\n",
    "\n",
    "with open('image-predictions.tsv', 'wb') as file:\n",
    "    file.write(r.content)"
   ]
  },
  {
   "cell_type": "code",
   "execution_count": 56,
   "metadata": {},
   "outputs": [
    {
     "data": {
      "text/html": [
       "<div>\n",
       "<style scoped>\n",
       "    .dataframe tbody tr th:only-of-type {\n",
       "        vertical-align: middle;\n",
       "    }\n",
       "\n",
       "    .dataframe tbody tr th {\n",
       "        vertical-align: top;\n",
       "    }\n",
       "\n",
       "    .dataframe thead th {\n",
       "        text-align: right;\n",
       "    }\n",
       "</style>\n",
       "<table border=\"1\" class=\"dataframe\">\n",
       "  <thead>\n",
       "    <tr style=\"text-align: right;\">\n",
       "      <th></th>\n",
       "      <th>tweet_id</th>\n",
       "      <th>jpg_url</th>\n",
       "      <th>img_num</th>\n",
       "      <th>p1</th>\n",
       "      <th>p1_conf</th>\n",
       "      <th>p1_dog</th>\n",
       "      <th>p2</th>\n",
       "      <th>p2_conf</th>\n",
       "      <th>p2_dog</th>\n",
       "      <th>p3</th>\n",
       "      <th>p3_conf</th>\n",
       "      <th>p3_dog</th>\n",
       "    </tr>\n",
       "  </thead>\n",
       "  <tbody>\n",
       "    <tr>\n",
       "      <th>0</th>\n",
       "      <td>666020888022790149</td>\n",
       "      <td>https://pbs.twimg.com/media/CT4udn0WwAA0aMy.jpg</td>\n",
       "      <td>1</td>\n",
       "      <td>Welsh_springer_spaniel</td>\n",
       "      <td>0.465074</td>\n",
       "      <td>True</td>\n",
       "      <td>collie</td>\n",
       "      <td>0.156665</td>\n",
       "      <td>True</td>\n",
       "      <td>Shetland_sheepdog</td>\n",
       "      <td>0.061428</td>\n",
       "      <td>True</td>\n",
       "    </tr>\n",
       "    <tr>\n",
       "      <th>1</th>\n",
       "      <td>666029285002620928</td>\n",
       "      <td>https://pbs.twimg.com/media/CT42GRgUYAA5iDo.jpg</td>\n",
       "      <td>1</td>\n",
       "      <td>redbone</td>\n",
       "      <td>0.506826</td>\n",
       "      <td>True</td>\n",
       "      <td>miniature_pinscher</td>\n",
       "      <td>0.074192</td>\n",
       "      <td>True</td>\n",
       "      <td>Rhodesian_ridgeback</td>\n",
       "      <td>0.072010</td>\n",
       "      <td>True</td>\n",
       "    </tr>\n",
       "    <tr>\n",
       "      <th>2</th>\n",
       "      <td>666033412701032449</td>\n",
       "      <td>https://pbs.twimg.com/media/CT4521TWwAEvMyu.jpg</td>\n",
       "      <td>1</td>\n",
       "      <td>German_shepherd</td>\n",
       "      <td>0.596461</td>\n",
       "      <td>True</td>\n",
       "      <td>malinois</td>\n",
       "      <td>0.138584</td>\n",
       "      <td>True</td>\n",
       "      <td>bloodhound</td>\n",
       "      <td>0.116197</td>\n",
       "      <td>True</td>\n",
       "    </tr>\n",
       "    <tr>\n",
       "      <th>3</th>\n",
       "      <td>666044226329800704</td>\n",
       "      <td>https://pbs.twimg.com/media/CT5Dr8HUEAA-lEu.jpg</td>\n",
       "      <td>1</td>\n",
       "      <td>Rhodesian_ridgeback</td>\n",
       "      <td>0.408143</td>\n",
       "      <td>True</td>\n",
       "      <td>redbone</td>\n",
       "      <td>0.360687</td>\n",
       "      <td>True</td>\n",
       "      <td>miniature_pinscher</td>\n",
       "      <td>0.222752</td>\n",
       "      <td>True</td>\n",
       "    </tr>\n",
       "    <tr>\n",
       "      <th>4</th>\n",
       "      <td>666049248165822465</td>\n",
       "      <td>https://pbs.twimg.com/media/CT5IQmsXIAAKY4A.jpg</td>\n",
       "      <td>1</td>\n",
       "      <td>miniature_pinscher</td>\n",
       "      <td>0.560311</td>\n",
       "      <td>True</td>\n",
       "      <td>Rottweiler</td>\n",
       "      <td>0.243682</td>\n",
       "      <td>True</td>\n",
       "      <td>Doberman</td>\n",
       "      <td>0.154629</td>\n",
       "      <td>True</td>\n",
       "    </tr>\n",
       "  </tbody>\n",
       "</table>\n",
       "</div>"
      ],
      "text/plain": [
       "             tweet_id                                          jpg_url  \\\n",
       "0  666020888022790149  https://pbs.twimg.com/media/CT4udn0WwAA0aMy.jpg   \n",
       "1  666029285002620928  https://pbs.twimg.com/media/CT42GRgUYAA5iDo.jpg   \n",
       "2  666033412701032449  https://pbs.twimg.com/media/CT4521TWwAEvMyu.jpg   \n",
       "3  666044226329800704  https://pbs.twimg.com/media/CT5Dr8HUEAA-lEu.jpg   \n",
       "4  666049248165822465  https://pbs.twimg.com/media/CT5IQmsXIAAKY4A.jpg   \n",
       "\n",
       "   img_num                      p1   p1_conf  p1_dog                  p2  \\\n",
       "0        1  Welsh_springer_spaniel  0.465074    True              collie   \n",
       "1        1                 redbone  0.506826    True  miniature_pinscher   \n",
       "2        1         German_shepherd  0.596461    True            malinois   \n",
       "3        1     Rhodesian_ridgeback  0.408143    True             redbone   \n",
       "4        1      miniature_pinscher  0.560311    True          Rottweiler   \n",
       "\n",
       "    p2_conf  p2_dog                   p3   p3_conf  p3_dog  \n",
       "0  0.156665    True    Shetland_sheepdog  0.061428    True  \n",
       "1  0.074192    True  Rhodesian_ridgeback  0.072010    True  \n",
       "2  0.138584    True           bloodhound  0.116197    True  \n",
       "3  0.360687    True   miniature_pinscher  0.222752    True  \n",
       "4  0.243682    True             Doberman  0.154629    True  "
      ]
     },
     "execution_count": 56,
     "metadata": {},
     "output_type": "execute_result"
    }
   ],
   "source": [
    "image_predictions = pd.read_csv('image-predictions.tsv',sep='\\t')\n",
    "image_predictions.head()"
   ]
  },
  {
   "cell_type": "code",
   "execution_count": 57,
   "metadata": {},
   "outputs": [
    {
     "name": "stdout",
     "output_type": "stream",
     "text": [
      "<class 'pandas.core.frame.DataFrame'>\n",
      "RangeIndex: 2075 entries, 0 to 2074\n",
      "Data columns (total 12 columns):\n",
      "tweet_id    2075 non-null int64\n",
      "jpg_url     2075 non-null object\n",
      "img_num     2075 non-null int64\n",
      "p1          2075 non-null object\n",
      "p1_conf     2075 non-null float64\n",
      "p1_dog      2075 non-null bool\n",
      "p2          2075 non-null object\n",
      "p2_conf     2075 non-null float64\n",
      "p2_dog      2075 non-null bool\n",
      "p3          2075 non-null object\n",
      "p3_conf     2075 non-null float64\n",
      "p3_dog      2075 non-null bool\n",
      "dtypes: bool(3), float64(3), int64(2), object(4)\n",
      "memory usage: 152.1+ KB\n"
     ]
    }
   ],
   "source": [
    "image_predictions.info()"
   ]
  },
  {
   "cell_type": "code",
   "execution_count": 58,
   "metadata": {},
   "outputs": [
    {
     "data": {
      "text/html": [
       "<div>\n",
       "<style scoped>\n",
       "    .dataframe tbody tr th:only-of-type {\n",
       "        vertical-align: middle;\n",
       "    }\n",
       "\n",
       "    .dataframe tbody tr th {\n",
       "        vertical-align: top;\n",
       "    }\n",
       "\n",
       "    .dataframe thead th {\n",
       "        text-align: right;\n",
       "    }\n",
       "</style>\n",
       "<table border=\"1\" class=\"dataframe\">\n",
       "  <thead>\n",
       "    <tr style=\"text-align: right;\">\n",
       "      <th></th>\n",
       "      <th>tweet_id</th>\n",
       "      <th>img_num</th>\n",
       "      <th>p1_conf</th>\n",
       "      <th>p2_conf</th>\n",
       "      <th>p3_conf</th>\n",
       "    </tr>\n",
       "  </thead>\n",
       "  <tbody>\n",
       "    <tr>\n",
       "      <th>count</th>\n",
       "      <td>2.075000e+03</td>\n",
       "      <td>2075.000000</td>\n",
       "      <td>2075.000000</td>\n",
       "      <td>2.075000e+03</td>\n",
       "      <td>2.075000e+03</td>\n",
       "    </tr>\n",
       "    <tr>\n",
       "      <th>mean</th>\n",
       "      <td>7.384514e+17</td>\n",
       "      <td>1.203855</td>\n",
       "      <td>0.594548</td>\n",
       "      <td>1.345886e-01</td>\n",
       "      <td>6.032417e-02</td>\n",
       "    </tr>\n",
       "    <tr>\n",
       "      <th>std</th>\n",
       "      <td>6.785203e+16</td>\n",
       "      <td>0.561875</td>\n",
       "      <td>0.271174</td>\n",
       "      <td>1.006657e-01</td>\n",
       "      <td>5.090593e-02</td>\n",
       "    </tr>\n",
       "    <tr>\n",
       "      <th>min</th>\n",
       "      <td>6.660209e+17</td>\n",
       "      <td>1.000000</td>\n",
       "      <td>0.044333</td>\n",
       "      <td>1.011300e-08</td>\n",
       "      <td>1.740170e-10</td>\n",
       "    </tr>\n",
       "    <tr>\n",
       "      <th>25%</th>\n",
       "      <td>6.764835e+17</td>\n",
       "      <td>1.000000</td>\n",
       "      <td>0.364412</td>\n",
       "      <td>5.388625e-02</td>\n",
       "      <td>1.622240e-02</td>\n",
       "    </tr>\n",
       "    <tr>\n",
       "      <th>50%</th>\n",
       "      <td>7.119988e+17</td>\n",
       "      <td>1.000000</td>\n",
       "      <td>0.588230</td>\n",
       "      <td>1.181810e-01</td>\n",
       "      <td>4.944380e-02</td>\n",
       "    </tr>\n",
       "    <tr>\n",
       "      <th>75%</th>\n",
       "      <td>7.932034e+17</td>\n",
       "      <td>1.000000</td>\n",
       "      <td>0.843855</td>\n",
       "      <td>1.955655e-01</td>\n",
       "      <td>9.180755e-02</td>\n",
       "    </tr>\n",
       "    <tr>\n",
       "      <th>max</th>\n",
       "      <td>8.924206e+17</td>\n",
       "      <td>4.000000</td>\n",
       "      <td>1.000000</td>\n",
       "      <td>4.880140e-01</td>\n",
       "      <td>2.734190e-01</td>\n",
       "    </tr>\n",
       "  </tbody>\n",
       "</table>\n",
       "</div>"
      ],
      "text/plain": [
       "           tweet_id      img_num      p1_conf       p2_conf       p3_conf\n",
       "count  2.075000e+03  2075.000000  2075.000000  2.075000e+03  2.075000e+03\n",
       "mean   7.384514e+17     1.203855     0.594548  1.345886e-01  6.032417e-02\n",
       "std    6.785203e+16     0.561875     0.271174  1.006657e-01  5.090593e-02\n",
       "min    6.660209e+17     1.000000     0.044333  1.011300e-08  1.740170e-10\n",
       "25%    6.764835e+17     1.000000     0.364412  5.388625e-02  1.622240e-02\n",
       "50%    7.119988e+17     1.000000     0.588230  1.181810e-01  4.944380e-02\n",
       "75%    7.932034e+17     1.000000     0.843855  1.955655e-01  9.180755e-02\n",
       "max    8.924206e+17     4.000000     1.000000  4.880140e-01  2.734190e-01"
      ]
     },
     "execution_count": 58,
     "metadata": {},
     "output_type": "execute_result"
    }
   ],
   "source": [
    "image_predictions.describe()"
   ]
  },
  {
   "cell_type": "markdown",
   "metadata": {},
   "source": [
    "### 1.4获取Twiiter数据"
   ]
  },
  {
   "cell_type": "code",
   "execution_count": 93,
   "metadata": {},
   "outputs": [],
   "source": [
    "import tweepy\n",
    "import os"
   ]
  },
  {
   "cell_type": "code",
   "execution_count": 94,
   "metadata": {},
   "outputs": [],
   "source": [
    "consumer_key = 'kN16oo6riZkcfIDUXJbGPOCdk'\n",
    "consumer_secret = 'KaBtiZzTgbkC1rGncfNvt3UeMGgC7wsTWmbNB0ybvWtzrJjH0w'\n",
    "access_token = '973063616730558469-vLomcJQ9TJNj1VbcREi9ZY2Xw4RbJdn'\n",
    "access_secret = 'dutdLjqzgzWP1LN8vsWPkeKsZPIRezBusJrvcozeGiEii'\n",
    "\n",
    "auth = tweepy.OAuthHandler(consumer_key, consumer_secret)\n",
    "auth.set_access_token(access_token, access_secret)\n",
    "\n",
    "api = tweepy.API(auth, wait_on_rate_limit=True, wait_on_rate_limit_notify=True)"
   ]
  },
  {
   "cell_type": "code",
   "execution_count": 96,
   "metadata": {},
   "outputs": [],
   "source": [
    "keys = ['id', 'retweet_count', 'favorite_count'];\n",
    "twitter_extra = pd.DataFrame([])\n",
    "json_df = pd.DataFrame()\n",
    "with open('tweet_json.txt', 'r') as file:\n",
    "    reader = file.readlines()\n",
    "    for row_index, row in enumerate(reader):\n",
    "        json_row_data = json.loads(row)\n",
    "        json_dict_data = {}\n",
    "        for i in keys:\n",
    "            json_dict_data[i] = json_row_data[i]\n",
    "        json_df = pd.DataFrame(json_dict_data, index=[row_index])\n",
    "        twitter_extra = twitter_extra.append(json_df)\n"
   ]
  },
  {
   "cell_type": "code",
   "execution_count": 98,
   "metadata": {},
   "outputs": [
    {
     "data": {
      "text/html": [
       "<div>\n",
       "<style scoped>\n",
       "    .dataframe tbody tr th:only-of-type {\n",
       "        vertical-align: middle;\n",
       "    }\n",
       "\n",
       "    .dataframe tbody tr th {\n",
       "        vertical-align: top;\n",
       "    }\n",
       "\n",
       "    .dataframe thead th {\n",
       "        text-align: right;\n",
       "    }\n",
       "</style>\n",
       "<table border=\"1\" class=\"dataframe\">\n",
       "  <thead>\n",
       "    <tr style=\"text-align: right;\">\n",
       "      <th></th>\n",
       "      <th>favorite_count</th>\n",
       "      <th>id</th>\n",
       "      <th>retweet_count</th>\n",
       "    </tr>\n",
       "  </thead>\n",
       "  <tbody>\n",
       "    <tr>\n",
       "      <th>0</th>\n",
       "      <td>39492</td>\n",
       "      <td>892420643555336193</td>\n",
       "      <td>8842</td>\n",
       "    </tr>\n",
       "    <tr>\n",
       "      <th>1</th>\n",
       "      <td>33786</td>\n",
       "      <td>892177421306343426</td>\n",
       "      <td>6480</td>\n",
       "    </tr>\n",
       "    <tr>\n",
       "      <th>2</th>\n",
       "      <td>25445</td>\n",
       "      <td>891815181378084864</td>\n",
       "      <td>4301</td>\n",
       "    </tr>\n",
       "    <tr>\n",
       "      <th>3</th>\n",
       "      <td>42863</td>\n",
       "      <td>891689557279858688</td>\n",
       "      <td>8925</td>\n",
       "    </tr>\n",
       "    <tr>\n",
       "      <th>4</th>\n",
       "      <td>41016</td>\n",
       "      <td>891327558926688256</td>\n",
       "      <td>9721</td>\n",
       "    </tr>\n",
       "  </tbody>\n",
       "</table>\n",
       "</div>"
      ],
      "text/plain": [
       "   favorite_count                  id  retweet_count\n",
       "0           39492  892420643555336193           8842\n",
       "1           33786  892177421306343426           6480\n",
       "2           25445  891815181378084864           4301\n",
       "3           42863  891689557279858688           8925\n",
       "4           41016  891327558926688256           9721"
      ]
     },
     "execution_count": 98,
     "metadata": {},
     "output_type": "execute_result"
    }
   ],
   "source": [
    "twitter_extra.head()"
   ]
  },
  {
   "cell_type": "code",
   "execution_count": 99,
   "metadata": {},
   "outputs": [
    {
     "name": "stdout",
     "output_type": "stream",
     "text": [
      "<class 'pandas.core.frame.DataFrame'>\n",
      "Int64Index: 2352 entries, 0 to 2351\n",
      "Data columns (total 3 columns):\n",
      "favorite_count    2352 non-null int64\n",
      "id                2352 non-null int64\n",
      "retweet_count     2352 non-null int64\n",
      "dtypes: int64(3)\n",
      "memory usage: 73.5 KB\n"
     ]
    }
   ],
   "source": [
    "twitter_extra.info()"
   ]
  },
  {
   "cell_type": "markdown",
   "metadata": {},
   "source": [
    "## 2 评估项目数据"
   ]
  },
  {
   "cell_type": "markdown",
   "metadata": {},
   "source": [
    "### 2.1 数据问题\n",
    "```\n",
    "质量问题\n",
    "1、数据丢失\n",
    "2、数据无效\n",
    "3、数据不准确\n",
    "4、数据不一致，单位不同\n",
    "\n",
    "整洁度问题\n",
    "1、每个变量构成一列\n",
    "2、每个观察结果构成一行\n",
    "3、每种类型的观察单位构成一个表格\n",
    "\n",
    "根据上面思路整理出需要验证的问题：\n",
    "1、在twitter、twitter_extra、image_predictions中tweet_id是不是唯一的。\n",
    "2、检查twitter、twitter_extra、image_predictions是否都含有同tweet_id。\n",
    "3、检查twitter中丢失数据量。通过检查非空的数量。（in_reply_to_status_id、in_reply_to_user_id、retweeted_status_id、retweeted_status_user_id、retweeted_status_timestamp）\n",
    "4、检查是否所有tweet_id都能对应有url。\n",
    "5、检查狗名是否正确\n",
    "6、检查每列中格式是否正确\n",
    "7、检查twitter dataframe中rating_numerator、rating_denominator是否正确\n",
    "8、清除twitter_extra中retweet_count为0的项\n",
    "9、image_predictions中p1、p2、p3中明显错误的项目\n",
    "10、观察检查文档中含有html的项，必须要的项需要清洗\n",
    "```"
   ]
  },
  {
   "cell_type": "markdown",
   "metadata": {},
   "source": [
    "#### 验证问题1:\n",
    "#### 检查twitter、twitter_extra、image_predictions中tweet_id是不是唯一的。\n",
    "```这个是多个dataframe中唯一标识，合并dataframe需要用得到，如果有重复需要清理。```"
   ]
  },
  {
   "cell_type": "code",
   "execution_count": 103,
   "metadata": {},
   "outputs": [
    {
     "name": "stdout",
     "output_type": "stream",
     "text": [
      "True\n",
      "True\n",
      "True\n"
     ]
    }
   ],
   "source": [
    "print(len(twitter)==len(twitter.tweet_id.unique()))\n",
    "print(len(twitter_extra)==len(twitter_extra.id.unique()))\n",
    "print(len(image_predictions)==len(image_predictions.tweet_id.unique()))"
   ]
  },
  {
   "cell_type": "markdown",
   "metadata": {},
   "source": [
    "#### 验证问题2:\n",
    "#### 检查twitter、twitter_extra、image_predictions是否都含有同tweet_id\n",
    "```检查3个dataframe中id是否相同，检查发现有2075条相同。为合并dataframe做准备使用。```"
   ]
  },
  {
   "cell_type": "code",
   "execution_count": 118,
   "metadata": {},
   "outputs": [
    {
     "name": "stdout",
     "output_type": "stream",
     "text": [
      "2356 2352 2075\n",
      "2075\n"
     ]
    }
   ],
   "source": [
    "print(len(twitter.tweet_id),len(twitter_extra.id),len(image_predictions.tweet_id))\n",
    "print(len(pd.concat([twitter.tweet_id,twitter_extra.id,image_predictions.tweet_id], axis=1, join='inner')))\n"
   ]
  },
  {
   "cell_type": "markdown",
   "metadata": {},
   "source": [
    "#### 验证问题3:\n",
    "#### 检查twitter中丢失数据量。通过检查非空的数量。（in_reply_to_status_id、in_reply_to_user_id、retweeted_status_id、retweeted_statu\n",
    "```通过检查发现twitter中in_reply_to_status_id、in_reply_to_user_id、retweeted_status_id、retweeted_statu是不需要的数据需去掉。```"
   ]
  },
  {
   "cell_type": "code",
   "execution_count": 123,
   "metadata": {},
   "outputs": [
    {
     "name": "stdout",
     "output_type": "stream",
     "text": [
      "2356\n",
      "78\n",
      "181\n"
     ]
    }
   ],
   "source": [
    "print(len(twitter))\n",
    "print(len(twitter[(~pd.isnull(twitter))|(~pd.isnull(twitter.in_reply_to_user_id))]))\n",
    "print(len(twitter[(~pd.isnull(twitter.retweeted_status_id)) | (~pd.isnull(twitter.retweeted_status_user_id)) | (~pd.isnull(twitter.retweeted_status_timestamp))]))"
   ]
  },
  {
   "cell_type": "markdown",
   "metadata": {},
   "source": [
    "#### 验证问题4:\n",
    "#### 是否所有tweet_id都能对应有url\n",
    "```检查发现并不是所有id都对应，意味着不对应id的数据需要清楚掉。```"
   ]
  },
  {
   "cell_type": "code",
   "execution_count": 120,
   "metadata": {},
   "outputs": [
    {
     "name": "stdout",
     "output_type": "stream",
     "text": [
      "281\n"
     ]
    }
   ],
   "source": [
    "tweets_no_images = set(twitter.tweet_id) - set(image_predictions.tweet_id)\n",
    "print(len(tweets_no_images))"
   ]
  },
  {
   "cell_type": "markdown",
   "metadata": {},
   "source": [
    "#### 验证问题5\n",
    "#### 检查狗名是否正确\n",
    "```发现大量None,a,an,a,such,quite,the名字。需要处理。```"
   ]
  },
  {
   "cell_type": "code",
   "execution_count": 127,
   "metadata": {},
   "outputs": [
    {
     "data": {
      "text/plain": [
       "0        Phineas\n",
       "1          Tilly\n",
       "2         Archie\n",
       "3          Darla\n",
       "4       Franklin\n",
       "5           None\n",
       "6            Jax\n",
       "7           None\n",
       "8           Zoey\n",
       "9         Cassie\n",
       "10          Koda\n",
       "11         Bruno\n",
       "12          None\n",
       "13           Ted\n",
       "14        Stuart\n",
       "15        Oliver\n",
       "16           Jim\n",
       "17          Zeke\n",
       "18       Ralphus\n",
       "19        Canela\n",
       "20        Gerald\n",
       "21       Jeffrey\n",
       "22          such\n",
       "23        Canela\n",
       "24          None\n",
       "25          None\n",
       "26          Maya\n",
       "27        Mingus\n",
       "28         Derek\n",
       "29        Roscoe\n",
       "          ...   \n",
       "2326       quite\n",
       "2327           a\n",
       "2328        None\n",
       "2329        None\n",
       "2330        None\n",
       "2331        None\n",
       "2332        None\n",
       "2333          an\n",
       "2334           a\n",
       "2335          an\n",
       "2336        None\n",
       "2337        None\n",
       "2338        None\n",
       "2339        None\n",
       "2340        None\n",
       "2341        None\n",
       "2342        None\n",
       "2343        None\n",
       "2344        None\n",
       "2345         the\n",
       "2346         the\n",
       "2347           a\n",
       "2348           a\n",
       "2349          an\n",
       "2350           a\n",
       "2351        None\n",
       "2352           a\n",
       "2353           a\n",
       "2354           a\n",
       "2355        None\n",
       "Name: name, Length: 2356, dtype: object"
      ]
     },
     "execution_count": 127,
     "metadata": {},
     "output_type": "execute_result"
    }
   ],
   "source": [
    "twitter.name"
   ]
  },
  {
   "cell_type": "markdown",
   "metadata": {},
   "source": [
    "#### 验证问题6\n",
    "#### 检查每列中格式是否正确\n",
    "```\n",
    "检查twitter发现timestamp、retweeted_status_timestamp应该为时间格式。\n",
    "检查twitter发现doggo、floofer、pupper、puppo中None不是str应该为None格式\n",
    "```"
   ]
  },
  {
   "cell_type": "code",
   "execution_count": 126,
   "metadata": {},
   "outputs": [
    {
     "name": "stdout",
     "output_type": "stream",
     "text": [
      "<class 'pandas.core.frame.DataFrame'>\n",
      "RangeIndex: 2356 entries, 0 to 2355\n",
      "Data columns (total 17 columns):\n",
      "tweet_id                      2356 non-null int64\n",
      "in_reply_to_status_id         78 non-null float64\n",
      "in_reply_to_user_id           78 non-null float64\n",
      "timestamp                     2356 non-null object\n",
      "source                        2356 non-null object\n",
      "text                          2356 non-null object\n",
      "retweeted_status_id           181 non-null float64\n",
      "retweeted_status_user_id      181 non-null float64\n",
      "retweeted_status_timestamp    181 non-null object\n",
      "expanded_urls                 2297 non-null object\n",
      "rating_numerator              2356 non-null int64\n",
      "rating_denominator            2356 non-null int64\n",
      "name                          2356 non-null object\n",
      "doggo                         2356 non-null object\n",
      "floofer                       2356 non-null object\n",
      "pupper                        2356 non-null object\n",
      "puppo                         2356 non-null object\n",
      "dtypes: float64(4), int64(3), object(10)\n",
      "memory usage: 313.0+ KB\n"
     ]
    }
   ],
   "source": [
    "twitter.info()"
   ]
  },
  {
   "cell_type": "code",
   "execution_count": 136,
   "metadata": {},
   "outputs": [
    {
     "name": "stdout",
     "output_type": "stream",
     "text": [
      "<class 'pandas.core.frame.DataFrame'>\n",
      "RangeIndex: 2075 entries, 0 to 2074\n",
      "Data columns (total 12 columns):\n",
      "tweet_id    2075 non-null int64\n",
      "jpg_url     2075 non-null object\n",
      "img_num     2075 non-null int64\n",
      "p1          2075 non-null object\n",
      "p1_conf     2075 non-null float64\n",
      "p1_dog      2075 non-null bool\n",
      "p2          2075 non-null object\n",
      "p2_conf     2075 non-null float64\n",
      "p2_dog      2075 non-null bool\n",
      "p3          2075 non-null object\n",
      "p3_conf     2075 non-null float64\n",
      "p3_dog      2075 non-null bool\n",
      "dtypes: bool(3), float64(3), int64(2), object(4)\n",
      "memory usage: 152.1+ KB\n"
     ]
    }
   ],
   "source": [
    "image_predictions.info()"
   ]
  },
  {
   "cell_type": "markdown",
   "metadata": {},
   "source": [
    "#### 验证问题7\n",
    "#### 检查twitter dataframe中rating_numerator、rating_denominator是否正确\n",
    "```通过散点图可以发现，有些明显异常值。需要在后期给去除掉。```"
   ]
  },
  {
   "cell_type": "code",
   "execution_count": 148,
   "metadata": {},
   "outputs": [
    {
     "data": {
      "image/png": "[encoded data removed]",
      "text/plain": [
       "<matplotlib.figure.Figure at 0x113b6a1d0>"
      ]
     },
     "metadata": {},
     "output_type": "display_data"
    }
   ],
   "source": [
    "x = range(len(twitter))\n",
    "y = twitter.rating_numerator\n",
    "z = twitter.rating_denominator\n",
    "plt.scatter(x, y,c ='b')\n",
    "plt.scatter(x, z,c ='r')\n",
    "plt.show()"
   ]
  },
  {
   "cell_type": "markdown",
   "metadata": {},
   "source": [
    "#### 验证问题8\n",
    "#### 清除twitter_extra中retweet_count为0的项"
   ]
  },
  {
   "cell_type": "code",
   "execution_count": 133,
   "metadata": {},
   "outputs": [
    {
     "data": {
      "text/html": [
       "<div>\n",
       "<style scoped>\n",
       "    .dataframe tbody tr th:only-of-type {\n",
       "        vertical-align: middle;\n",
       "    }\n",
       "\n",
       "    .dataframe tbody tr th {\n",
       "        vertical-align: top;\n",
       "    }\n",
       "\n",
       "    .dataframe thead th {\n",
       "        text-align: right;\n",
       "    }\n",
       "</style>\n",
       "<table border=\"1\" class=\"dataframe\">\n",
       "  <thead>\n",
       "    <tr style=\"text-align: right;\">\n",
       "      <th></th>\n",
       "      <th>favorite_count</th>\n",
       "      <th>id</th>\n",
       "      <th>retweet_count</th>\n",
       "    </tr>\n",
       "  </thead>\n",
       "  <tbody>\n",
       "    <tr>\n",
       "      <th>288</th>\n",
       "      <td>150</td>\n",
       "      <td>838085839343206401</td>\n",
       "      <td>0</td>\n",
       "    </tr>\n",
       "  </tbody>\n",
       "</table>\n",
       "</div>"
      ],
      "text/plain": [
       "     favorite_count                  id  retweet_count\n",
       "288             150  838085839343206401              0"
      ]
     },
     "execution_count": 133,
     "metadata": {},
     "output_type": "execute_result"
    }
   ],
   "source": [
    "twitter_extra[twitter_extra.retweet_count==0]"
   ]
  },
  {
   "cell_type": "markdown",
   "metadata": {},
   "source": [
    "#### 验证问题9\n",
    "#### image_predictions中p1、p2、p3中明显错误的项目\n",
    "```经过比对发现比如2074行，中orange、bagel、banana```"
   ]
  },
  {
   "cell_type": "code",
   "execution_count": 147,
   "metadata": {},
   "outputs": [
    {
     "data": {
      "text/html": [
       "<div>\n",
       "<style scoped>\n",
       "    .dataframe tbody tr th:only-of-type {\n",
       "        vertical-align: middle;\n",
       "    }\n",
       "\n",
       "    .dataframe tbody tr th {\n",
       "        vertical-align: top;\n",
       "    }\n",
       "\n",
       "    .dataframe thead th {\n",
       "        text-align: right;\n",
       "    }\n",
       "</style>\n",
       "<table border=\"1\" class=\"dataframe\">\n",
       "  <thead>\n",
       "    <tr style=\"text-align: right;\">\n",
       "      <th></th>\n",
       "      <th>p1</th>\n",
       "      <th>p2</th>\n",
       "      <th>p3</th>\n",
       "    </tr>\n",
       "  </thead>\n",
       "  <tbody>\n",
       "    <tr>\n",
       "      <th>0</th>\n",
       "      <td>Welsh_springer_spaniel</td>\n",
       "      <td>collie</td>\n",
       "      <td>Shetland_sheepdog</td>\n",
       "    </tr>\n",
       "    <tr>\n",
       "      <th>1</th>\n",
       "      <td>redbone</td>\n",
       "      <td>miniature_pinscher</td>\n",
       "      <td>Rhodesian_ridgeback</td>\n",
       "    </tr>\n",
       "    <tr>\n",
       "      <th>2</th>\n",
       "      <td>German_shepherd</td>\n",
       "      <td>malinois</td>\n",
       "      <td>bloodhound</td>\n",
       "    </tr>\n",
       "    <tr>\n",
       "      <th>3</th>\n",
       "      <td>Rhodesian_ridgeback</td>\n",
       "      <td>redbone</td>\n",
       "      <td>miniature_pinscher</td>\n",
       "    </tr>\n",
       "    <tr>\n",
       "      <th>4</th>\n",
       "      <td>miniature_pinscher</td>\n",
       "      <td>Rottweiler</td>\n",
       "      <td>Doberman</td>\n",
       "    </tr>\n",
       "    <tr>\n",
       "      <th>5</th>\n",
       "      <td>Bernese_mountain_dog</td>\n",
       "      <td>English_springer</td>\n",
       "      <td>Greater_Swiss_Mountain_dog</td>\n",
       "    </tr>\n",
       "    <tr>\n",
       "      <th>6</th>\n",
       "      <td>box_turtle</td>\n",
       "      <td>mud_turtle</td>\n",
       "      <td>terrapin</td>\n",
       "    </tr>\n",
       "    <tr>\n",
       "      <th>7</th>\n",
       "      <td>chow</td>\n",
       "      <td>Tibetan_mastiff</td>\n",
       "      <td>fur_coat</td>\n",
       "    </tr>\n",
       "    <tr>\n",
       "      <th>8</th>\n",
       "      <td>shopping_cart</td>\n",
       "      <td>shopping_basket</td>\n",
       "      <td>golden_retriever</td>\n",
       "    </tr>\n",
       "    <tr>\n",
       "      <th>9</th>\n",
       "      <td>miniature_poodle</td>\n",
       "      <td>komondor</td>\n",
       "      <td>soft-coated_wheaten_terrier</td>\n",
       "    </tr>\n",
       "    <tr>\n",
       "      <th>10</th>\n",
       "      <td>golden_retriever</td>\n",
       "      <td>Tibetan_mastiff</td>\n",
       "      <td>Labrador_retriever</td>\n",
       "    </tr>\n",
       "    <tr>\n",
       "      <th>11</th>\n",
       "      <td>Gordon_setter</td>\n",
       "      <td>Yorkshire_terrier</td>\n",
       "      <td>Pekinese</td>\n",
       "    </tr>\n",
       "    <tr>\n",
       "      <th>12</th>\n",
       "      <td>Walker_hound</td>\n",
       "      <td>English_foxhound</td>\n",
       "      <td>Ibizan_hound</td>\n",
       "    </tr>\n",
       "    <tr>\n",
       "      <th>13</th>\n",
       "      <td>pug</td>\n",
       "      <td>bull_mastiff</td>\n",
       "      <td>French_bulldog</td>\n",
       "    </tr>\n",
       "    <tr>\n",
       "      <th>14</th>\n",
       "      <td>bloodhound</td>\n",
       "      <td>German_shepherd</td>\n",
       "      <td>malinois</td>\n",
       "    </tr>\n",
       "    <tr>\n",
       "      <th>15</th>\n",
       "      <td>Lhasa</td>\n",
       "      <td>Shih-Tzu</td>\n",
       "      <td>Dandie_Dinmont</td>\n",
       "    </tr>\n",
       "    <tr>\n",
       "      <th>16</th>\n",
       "      <td>English_setter</td>\n",
       "      <td>Newfoundland</td>\n",
       "      <td>borzoi</td>\n",
       "    </tr>\n",
       "    <tr>\n",
       "      <th>17</th>\n",
       "      <td>hen</td>\n",
       "      <td>cock</td>\n",
       "      <td>partridge</td>\n",
       "    </tr>\n",
       "    <tr>\n",
       "      <th>18</th>\n",
       "      <td>desktop_computer</td>\n",
       "      <td>desk</td>\n",
       "      <td>bookcase</td>\n",
       "    </tr>\n",
       "    <tr>\n",
       "      <th>19</th>\n",
       "      <td>Italian_greyhound</td>\n",
       "      <td>toy_terrier</td>\n",
       "      <td>basenji</td>\n",
       "    </tr>\n",
       "    <tr>\n",
       "      <th>20</th>\n",
       "      <td>Maltese_dog</td>\n",
       "      <td>toy_poodle</td>\n",
       "      <td>miniature_poodle</td>\n",
       "    </tr>\n",
       "    <tr>\n",
       "      <th>21</th>\n",
       "      <td>three-toed_sloth</td>\n",
       "      <td>otter</td>\n",
       "      <td>great_grey_owl</td>\n",
       "    </tr>\n",
       "    <tr>\n",
       "      <th>22</th>\n",
       "      <td>ox</td>\n",
       "      <td>Newfoundland</td>\n",
       "      <td>groenendael</td>\n",
       "    </tr>\n",
       "    <tr>\n",
       "      <th>23</th>\n",
       "      <td>golden_retriever</td>\n",
       "      <td>Chesapeake_Bay_retriever</td>\n",
       "      <td>Labrador_retriever</td>\n",
       "    </tr>\n",
       "    <tr>\n",
       "      <th>24</th>\n",
       "      <td>malamute</td>\n",
       "      <td>Siberian_husky</td>\n",
       "      <td>Eskimo_dog</td>\n",
       "    </tr>\n",
       "    <tr>\n",
       "      <th>25</th>\n",
       "      <td>guinea_pig</td>\n",
       "      <td>skunk</td>\n",
       "      <td>hamster</td>\n",
       "    </tr>\n",
       "    <tr>\n",
       "      <th>26</th>\n",
       "      <td>soft-coated_wheaten_terrier</td>\n",
       "      <td>Afghan_hound</td>\n",
       "      <td>briard</td>\n",
       "    </tr>\n",
       "    <tr>\n",
       "      <th>27</th>\n",
       "      <td>Chihuahua</td>\n",
       "      <td>toy_terrier</td>\n",
       "      <td>papillon</td>\n",
       "    </tr>\n",
       "    <tr>\n",
       "      <th>28</th>\n",
       "      <td>black-and-tan_coonhound</td>\n",
       "      <td>bloodhound</td>\n",
       "      <td>flat-coated_retriever</td>\n",
       "    </tr>\n",
       "    <tr>\n",
       "      <th>29</th>\n",
       "      <td>coho</td>\n",
       "      <td>barracouta</td>\n",
       "      <td>gar</td>\n",
       "    </tr>\n",
       "    <tr>\n",
       "      <th>...</th>\n",
       "      <td>...</td>\n",
       "      <td>...</td>\n",
       "      <td>...</td>\n",
       "    </tr>\n",
       "    <tr>\n",
       "      <th>2045</th>\n",
       "      <td>French_bulldog</td>\n",
       "      <td>Chihuahua</td>\n",
       "      <td>Boston_bull</td>\n",
       "    </tr>\n",
       "    <tr>\n",
       "      <th>2046</th>\n",
       "      <td>convertible</td>\n",
       "      <td>sports_car</td>\n",
       "      <td>car_wheel</td>\n",
       "    </tr>\n",
       "    <tr>\n",
       "      <th>2047</th>\n",
       "      <td>kuvasz</td>\n",
       "      <td>Great_Pyrenees</td>\n",
       "      <td>Dandie_Dinmont</td>\n",
       "    </tr>\n",
       "    <tr>\n",
       "      <th>2048</th>\n",
       "      <td>Chihuahua</td>\n",
       "      <td>toy_terrier</td>\n",
       "      <td>can_opener</td>\n",
       "    </tr>\n",
       "    <tr>\n",
       "      <th>2049</th>\n",
       "      <td>Samoyed</td>\n",
       "      <td>Eskimo_dog</td>\n",
       "      <td>Staffordshire_bullterrier</td>\n",
       "    </tr>\n",
       "    <tr>\n",
       "      <th>2050</th>\n",
       "      <td>Mexican_hairless</td>\n",
       "      <td>sea_lion</td>\n",
       "      <td>Weimaraner</td>\n",
       "    </tr>\n",
       "    <tr>\n",
       "      <th>2051</th>\n",
       "      <td>Pembroke</td>\n",
       "      <td>Rhodesian_ridgeback</td>\n",
       "      <td>beagle</td>\n",
       "    </tr>\n",
       "    <tr>\n",
       "      <th>2052</th>\n",
       "      <td>limousine</td>\n",
       "      <td>tow_truck</td>\n",
       "      <td>shopping_cart</td>\n",
       "    </tr>\n",
       "    <tr>\n",
       "      <th>2053</th>\n",
       "      <td>basset</td>\n",
       "      <td>redbone</td>\n",
       "      <td>Weimaraner</td>\n",
       "    </tr>\n",
       "    <tr>\n",
       "      <th>2054</th>\n",
       "      <td>French_bulldog</td>\n",
       "      <td>pug</td>\n",
       "      <td>bull_mastiff</td>\n",
       "    </tr>\n",
       "    <tr>\n",
       "      <th>2055</th>\n",
       "      <td>Pembroke</td>\n",
       "      <td>Rhodesian_ridgeback</td>\n",
       "      <td>beagle</td>\n",
       "    </tr>\n",
       "    <tr>\n",
       "      <th>2056</th>\n",
       "      <td>Siberian_husky</td>\n",
       "      <td>Eskimo_dog</td>\n",
       "      <td>malamute</td>\n",
       "    </tr>\n",
       "    <tr>\n",
       "      <th>2057</th>\n",
       "      <td>golden_retriever</td>\n",
       "      <td>Labrador_retriever</td>\n",
       "      <td>English_setter</td>\n",
       "    </tr>\n",
       "    <tr>\n",
       "      <th>2058</th>\n",
       "      <td>golden_retriever</td>\n",
       "      <td>Tibetan_mastiff</td>\n",
       "      <td>Labrador_retriever</td>\n",
       "    </tr>\n",
       "    <tr>\n",
       "      <th>2059</th>\n",
       "      <td>whippet</td>\n",
       "      <td>borzoi</td>\n",
       "      <td>Saluki</td>\n",
       "    </tr>\n",
       "    <tr>\n",
       "      <th>2060</th>\n",
       "      <td>golden_retriever</td>\n",
       "      <td>Labrador_retriever</td>\n",
       "      <td>redbone</td>\n",
       "    </tr>\n",
       "    <tr>\n",
       "      <th>2061</th>\n",
       "      <td>French_bulldog</td>\n",
       "      <td>boxer</td>\n",
       "      <td>Staffordshire_bullterrier</td>\n",
       "    </tr>\n",
       "    <tr>\n",
       "      <th>2062</th>\n",
       "      <td>Pembroke</td>\n",
       "      <td>Cardigan</td>\n",
       "      <td>basenji</td>\n",
       "    </tr>\n",
       "    <tr>\n",
       "      <th>2063</th>\n",
       "      <td>French_bulldog</td>\n",
       "      <td>Labrador_retriever</td>\n",
       "      <td>muzzle</td>\n",
       "    </tr>\n",
       "    <tr>\n",
       "      <th>2064</th>\n",
       "      <td>Samoyed</td>\n",
       "      <td>Pomeranian</td>\n",
       "      <td>chow</td>\n",
       "    </tr>\n",
       "    <tr>\n",
       "      <th>2065</th>\n",
       "      <td>Pembroke</td>\n",
       "      <td>Cardigan</td>\n",
       "      <td>Chihuahua</td>\n",
       "    </tr>\n",
       "    <tr>\n",
       "      <th>2066</th>\n",
       "      <td>Irish_terrier</td>\n",
       "      <td>Irish_setter</td>\n",
       "      <td>Chesapeake_Bay_retriever</td>\n",
       "    </tr>\n",
       "    <tr>\n",
       "      <th>2067</th>\n",
       "      <td>Pomeranian</td>\n",
       "      <td>Eskimo_dog</td>\n",
       "      <td>Pembroke</td>\n",
       "    </tr>\n",
       "    <tr>\n",
       "      <th>2068</th>\n",
       "      <td>Appenzeller</td>\n",
       "      <td>Border_collie</td>\n",
       "      <td>ice_lolly</td>\n",
       "    </tr>\n",
       "    <tr>\n",
       "      <th>2069</th>\n",
       "      <td>Chesapeake_Bay_retriever</td>\n",
       "      <td>Irish_terrier</td>\n",
       "      <td>Indian_elephant</td>\n",
       "    </tr>\n",
       "    <tr>\n",
       "      <th>2070</th>\n",
       "      <td>basset</td>\n",
       "      <td>English_springer</td>\n",
       "      <td>German_short-haired_pointer</td>\n",
       "    </tr>\n",
       "    <tr>\n",
       "      <th>2071</th>\n",
       "      <td>paper_towel</td>\n",
       "      <td>Labrador_retriever</td>\n",
       "      <td>spatula</td>\n",
       "    </tr>\n",
       "    <tr>\n",
       "      <th>2072</th>\n",
       "      <td>Chihuahua</td>\n",
       "      <td>malamute</td>\n",
       "      <td>kelpie</td>\n",
       "    </tr>\n",
       "    <tr>\n",
       "      <th>2073</th>\n",
       "      <td>Chihuahua</td>\n",
       "      <td>Pekinese</td>\n",
       "      <td>papillon</td>\n",
       "    </tr>\n",
       "    <tr>\n",
       "      <th>2074</th>\n",
       "      <td>orange</td>\n",
       "      <td>bagel</td>\n",
       "      <td>banana</td>\n",
       "    </tr>\n",
       "  </tbody>\n",
       "</table>\n",
       "<p>2075 rows × 3 columns</p>\n",
       "</div>"
      ],
      "text/plain": [
       "                               p1                        p2  \\\n",
       "0          Welsh_springer_spaniel                    collie   \n",
       "1                         redbone        miniature_pinscher   \n",
       "2                 German_shepherd                  malinois   \n",
       "3             Rhodesian_ridgeback                   redbone   \n",
       "4              miniature_pinscher                Rottweiler   \n",
       "5            Bernese_mountain_dog          English_springer   \n",
       "6                      box_turtle                mud_turtle   \n",
       "7                            chow           Tibetan_mastiff   \n",
       "8                   shopping_cart           shopping_basket   \n",
       "9                miniature_poodle                  komondor   \n",
       "10               golden_retriever           Tibetan_mastiff   \n",
       "11                  Gordon_setter         Yorkshire_terrier   \n",
       "12                   Walker_hound          English_foxhound   \n",
       "13                            pug              bull_mastiff   \n",
       "14                     bloodhound           German_shepherd   \n",
       "15                          Lhasa                  Shih-Tzu   \n",
       "16                 English_setter              Newfoundland   \n",
       "17                            hen                      cock   \n",
       "18               desktop_computer                      desk   \n",
       "19              Italian_greyhound               toy_terrier   \n",
       "20                    Maltese_dog                toy_poodle   \n",
       "21               three-toed_sloth                     otter   \n",
       "22                             ox              Newfoundland   \n",
       "23               golden_retriever  Chesapeake_Bay_retriever   \n",
       "24                       malamute            Siberian_husky   \n",
       "25                     guinea_pig                     skunk   \n",
       "26    soft-coated_wheaten_terrier              Afghan_hound   \n",
       "27                      Chihuahua               toy_terrier   \n",
       "28        black-and-tan_coonhound                bloodhound   \n",
       "29                           coho                barracouta   \n",
       "...                           ...                       ...   \n",
       "2045               French_bulldog                 Chihuahua   \n",
       "2046                  convertible                sports_car   \n",
       "2047                       kuvasz            Great_Pyrenees   \n",
       "2048                    Chihuahua               toy_terrier   \n",
       "2049                      Samoyed                Eskimo_dog   \n",
       "2050             Mexican_hairless                  sea_lion   \n",
       "2051                     Pembroke       Rhodesian_ridgeback   \n",
       "2052                    limousine                 tow_truck   \n",
       "2053                       basset                   redbone   \n",
       "2054               French_bulldog                       pug   \n",
       "2055                     Pembroke       Rhodesian_ridgeback   \n",
       "2056               Siberian_husky                Eskimo_dog   \n",
       "2057             golden_retriever        Labrador_retriever   \n",
       "2058             golden_retriever           Tibetan_mastiff   \n",
       "2059                      whippet                    borzoi   \n",
       "2060             golden_retriever        Labrador_retriever   \n",
       "2061               French_bulldog                     boxer   \n",
       "2062                     Pembroke                  Cardigan   \n",
       "2063               French_bulldog        Labrador_retriever   \n",
       "2064                      Samoyed                Pomeranian   \n",
       "2065                     Pembroke                  Cardigan   \n",
       "2066                Irish_terrier              Irish_setter   \n",
       "2067                   Pomeranian                Eskimo_dog   \n",
       "2068                  Appenzeller             Border_collie   \n",
       "2069     Chesapeake_Bay_retriever             Irish_terrier   \n",
       "2070                       basset          English_springer   \n",
       "2071                  paper_towel        Labrador_retriever   \n",
       "2072                    Chihuahua                  malamute   \n",
       "2073                    Chihuahua                  Pekinese   \n",
       "2074                       orange                     bagel   \n",
       "\n",
       "                               p3  \n",
       "0               Shetland_sheepdog  \n",
       "1             Rhodesian_ridgeback  \n",
       "2                      bloodhound  \n",
       "3              miniature_pinscher  \n",
       "4                        Doberman  \n",
       "5      Greater_Swiss_Mountain_dog  \n",
       "6                        terrapin  \n",
       "7                        fur_coat  \n",
       "8                golden_retriever  \n",
       "9     soft-coated_wheaten_terrier  \n",
       "10             Labrador_retriever  \n",
       "11                       Pekinese  \n",
       "12                   Ibizan_hound  \n",
       "13                 French_bulldog  \n",
       "14                       malinois  \n",
       "15                 Dandie_Dinmont  \n",
       "16                         borzoi  \n",
       "17                      partridge  \n",
       "18                       bookcase  \n",
       "19                        basenji  \n",
       "20               miniature_poodle  \n",
       "21                 great_grey_owl  \n",
       "22                    groenendael  \n",
       "23             Labrador_retriever  \n",
       "24                     Eskimo_dog  \n",
       "25                        hamster  \n",
       "26                         briard  \n",
       "27                       papillon  \n",
       "28          flat-coated_retriever  \n",
       "29                            gar  \n",
       "...                           ...  \n",
       "2045                  Boston_bull  \n",
       "2046                    car_wheel  \n",
       "2047               Dandie_Dinmont  \n",
       "2048                   can_opener  \n",
       "2049    Staffordshire_bullterrier  \n",
       "2050                   Weimaraner  \n",
       "2051                       beagle  \n",
       "2052                shopping_cart  \n",
       "2053                   Weimaraner  \n",
       "2054                 bull_mastiff  \n",
       "2055                       beagle  \n",
       "2056                     malamute  \n",
       "2057               English_setter  \n",
       "2058           Labrador_retriever  \n",
       "2059                       Saluki  \n",
       "2060                      redbone  \n",
       "2061    Staffordshire_bullterrier  \n",
       "2062                      basenji  \n",
       "2063                       muzzle  \n",
       "2064                         chow  \n",
       "2065                    Chihuahua  \n",
       "2066     Chesapeake_Bay_retriever  \n",
       "2067                     Pembroke  \n",
       "2068                    ice_lolly  \n",
       "2069              Indian_elephant  \n",
       "2070  German_short-haired_pointer  \n",
       "2071                      spatula  \n",
       "2072                       kelpie  \n",
       "2073                     papillon  \n",
       "2074                       banana  \n",
       "\n",
       "[2075 rows x 3 columns]"
      ]
     },
     "execution_count": 147,
     "metadata": {},
     "output_type": "execute_result"
    }
   ],
   "source": [
    "image_predictions[[\"p1\",\"p2\",\"p3\"]]"
   ]
  },
  {
   "cell_type": "markdown",
   "metadata": {},
   "source": [
    "#### 验证问题10\n",
    "#### 观察检查文档中含有html的项，必须要的项需要清洗\n",
    "```检查发现twitter中含有html元素，需要清除掉```"
   ]
  },
  {
   "cell_type": "code",
   "execution_count": 151,
   "metadata": {},
   "outputs": [
    {
     "data": {
      "text/plain": [
       "0    <a href=\"http://twitter.com/download/iphone\" r...\n",
       "1    <a href=\"http://twitter.com/download/iphone\" r...\n",
       "2    <a href=\"http://twitter.com/download/iphone\" r...\n",
       "3    <a href=\"http://twitter.com/download/iphone\" r...\n",
       "4    <a href=\"http://twitter.com/download/iphone\" r...\n",
       "Name: source, dtype: object"
      ]
     },
     "execution_count": 151,
     "metadata": {},
     "output_type": "execute_result"
    }
   ],
   "source": [
    "twitter.source.head()"
   ]
  },
  {
   "cell_type": "markdown",
   "metadata": {},
   "source": [
    "#### 验证问题11\n",
    "#### 观察检查expanded_urls中值，发现有多个url情况\n",
    "```为了分析方便，多个url清除掉其他保留1个```"
   ]
  },
  {
   "cell_type": "code",
   "execution_count": 159,
   "metadata": {},
   "outputs": [
    {
     "data": {
      "text/plain": [
       "'https://twitter.com/dog_rates/status/891327558926688256/photo/1,https://twitter.com/dog_rates/status/891327558926688256/photo/1'"
      ]
     },
     "execution_count": 159,
     "metadata": {},
     "output_type": "execute_result"
    }
   ],
   "source": [
    "twitter.expanded_urls[4]"
   ]
  },
  {
   "cell_type": "markdown",
   "metadata": {},
   "source": [
    "### 评估项目数据\n",
    "#### 数据质量问题\n",
    "```\n",
    "（1）twitter的dataframe中不需要处理的数据in_reply_to_status_id、in_reply_to_user_id、retweeted_status_id、retweeted_statu。\n",
    "（2）twitter的dataframe中狗的name字段含有None,a,an,a,such,quite,the，需要去掉或填充None类型。\n",
    "（3）twitter的dataframe中狗的name字段None为字符串格式，需要修改为python中None。\n",
    "（4）twitter的dataframe中timestamp、retweeted_status_timestamp应该为时间格式。\n",
    "（5）twitter的dataframe中doggo、floofer、pupper、puppo中None不是str应该为None格式\n",
    "（6）twitter的dataframe中rating_numerator、rating_denominator存在异常值，需清除\n",
    "（7）twitter_extra的dataframe中retweet_count为0的异常值\n",
    "（8）image_predictions的dataframe中p1、p2、p3中明显错误的异常值\n",
    "（9）twitter的dataframe中source含有html元素，需要去掉\n",
    "```\n",
    "#### 数据整洁问题\n",
    "```\n",
    "（1）所有的数据在多个dataframe中，需要合并到一个dataframe进行分析。以twitter、twitter_extra、image_prediction中对应id为基准合并。\n",
    "（2）twitter的dataframe中expanded_urls含有多个url，需要清理掉\n",
    "（3）twitter的dataframe中oggo、floofer、pupper、puppo需要合并成1列\n",
    "```"
   ]
  },
  {
   "cell_type": "markdown",
   "metadata": {},
   "source": [
    "## 3 清洗项目数据"
   ]
  },
  {
   "cell_type": "markdown",
   "metadata": {},
   "source": [
    "### 清洗数据1\n",
    "#### 对应数据质量问题1：twitter的dataframe中不需要处理的数据in_reply_to_status_id、in_reply_to_user_id、retweeted_status_id、retweeted_statu。\n",
    "#### 处理方法：去掉这些列"
   ]
  },
  {
   "cell_type": "code",
   "execution_count": 486,
   "metadata": {},
   "outputs": [],
   "source": [
    "twitter_temp = twitter[~((~pd.isnull(twitter.in_reply_to_status_id)) | \\\n",
    "                    (~pd.isnull(twitter.in_reply_to_user_id)) | \\\n",
    "                    (~pd.isnull(twitter.retweeted_status_id)) | \\\n",
    "                    (~pd.isnull(twitter.retweeted_status_user_id)) | \\\n",
    "                    (~pd.isnull(twitter.retweeted_status_timestamp)))].reset_index(drop=True)\\\n",
    "[['tweet_id', 'timestamp', 'source', 'text', 'expanded_urls', 'rating_numerator',\n",
    "       'rating_denominator', 'name', 'doggo', 'floofer', 'pupper', 'puppo']]"
   ]
  },
  {
   "cell_type": "code",
   "execution_count": 487,
   "metadata": {},
   "outputs": [
    {
     "data": {
      "text/html": [
       "<div>\n",
       "<style scoped>\n",
       "    .dataframe tbody tr th:only-of-type {\n",
       "        vertical-align: middle;\n",
       "    }\n",
       "\n",
       "    .dataframe tbody tr th {\n",
       "        vertical-align: top;\n",
       "    }\n",
       "\n",
       "    .dataframe thead th {\n",
       "        text-align: right;\n",
       "    }\n",
       "</style>\n",
       "<table border=\"1\" class=\"dataframe\">\n",
       "  <thead>\n",
       "    <tr style=\"text-align: right;\">\n",
       "      <th></th>\n",
       "      <th>tweet_id</th>\n",
       "      <th>timestamp</th>\n",
       "      <th>source</th>\n",
       "      <th>text</th>\n",
       "      <th>expanded_urls</th>\n",
       "      <th>rating_numerator</th>\n",
       "      <th>rating_denominator</th>\n",
       "      <th>name</th>\n",
       "      <th>doggo</th>\n",
       "      <th>floofer</th>\n",
       "      <th>pupper</th>\n",
       "      <th>puppo</th>\n",
       "    </tr>\n",
       "  </thead>\n",
       "  <tbody>\n",
       "    <tr>\n",
       "      <th>0</th>\n",
       "      <td>892420643555336193</td>\n",
       "      <td>2017-08-01 16:23:56 +0000</td>\n",
       "      <td>&lt;a href=\"http://twitter.com/download/iphone\" r...</td>\n",
       "      <td>This is Phineas. He's a mystical boy. Only eve...</td>\n",
       "      <td>https://twitter.com/dog_rates/status/892420643...</td>\n",
       "      <td>13</td>\n",
       "      <td>10</td>\n",
       "      <td>Phineas</td>\n",
       "      <td>None</td>\n",
       "      <td>None</td>\n",
       "      <td>None</td>\n",
       "      <td>None</td>\n",
       "    </tr>\n",
       "    <tr>\n",
       "      <th>1</th>\n",
       "      <td>892177421306343426</td>\n",
       "      <td>2017-08-01 00:17:27 +0000</td>\n",
       "      <td>&lt;a href=\"http://twitter.com/download/iphone\" r...</td>\n",
       "      <td>This is Tilly. She's just checking pup on you....</td>\n",
       "      <td>https://twitter.com/dog_rates/status/892177421...</td>\n",
       "      <td>13</td>\n",
       "      <td>10</td>\n",
       "      <td>Tilly</td>\n",
       "      <td>None</td>\n",
       "      <td>None</td>\n",
       "      <td>None</td>\n",
       "      <td>None</td>\n",
       "    </tr>\n",
       "    <tr>\n",
       "      <th>2</th>\n",
       "      <td>891815181378084864</td>\n",
       "      <td>2017-07-31 00:18:03 +0000</td>\n",
       "      <td>&lt;a href=\"http://twitter.com/download/iphone\" r...</td>\n",
       "      <td>This is Archie. He is a rare Norwegian Pouncin...</td>\n",
       "      <td>https://twitter.com/dog_rates/status/891815181...</td>\n",
       "      <td>12</td>\n",
       "      <td>10</td>\n",
       "      <td>Archie</td>\n",
       "      <td>None</td>\n",
       "      <td>None</td>\n",
       "      <td>None</td>\n",
       "      <td>None</td>\n",
       "    </tr>\n",
       "  </tbody>\n",
       "</table>\n",
       "</div>"
      ],
      "text/plain": [
       "             tweet_id                  timestamp  \\\n",
       "0  892420643555336193  2017-08-01 16:23:56 +0000   \n",
       "1  892177421306343426  2017-08-01 00:17:27 +0000   \n",
       "2  891815181378084864  2017-07-31 00:18:03 +0000   \n",
       "\n",
       "                                              source  \\\n",
       "0  <a href=\"http://twitter.com/download/iphone\" r...   \n",
       "1  <a href=\"http://twitter.com/download/iphone\" r...   \n",
       "2  <a href=\"http://twitter.com/download/iphone\" r...   \n",
       "\n",
       "                                                text  \\\n",
       "0  This is Phineas. He's a mystical boy. Only eve...   \n",
       "1  This is Tilly. She's just checking pup on you....   \n",
       "2  This is Archie. He is a rare Norwegian Pouncin...   \n",
       "\n",
       "                                       expanded_urls  rating_numerator  \\\n",
       "0  https://twitter.com/dog_rates/status/892420643...                13   \n",
       "1  https://twitter.com/dog_rates/status/892177421...                13   \n",
       "2  https://twitter.com/dog_rates/status/891815181...                12   \n",
       "\n",
       "   rating_denominator     name doggo floofer pupper puppo  \n",
       "0                  10  Phineas  None    None   None  None  \n",
       "1                  10    Tilly  None    None   None  None  \n",
       "2                  10   Archie  None    None   None  None  "
      ]
     },
     "execution_count": 487,
     "metadata": {},
     "output_type": "execute_result"
    }
   ],
   "source": [
    "#验证是否清除成功\n",
    "twitter_temp.head(3)"
   ]
  },
  {
   "cell_type": "markdown",
   "metadata": {},
   "source": [
    "### 清洗数据2\n",
    "#### 对应数据质量问题2&3：twitter的dataframe中狗的name字段含有a,an,a,such,quite,the，需要去掉或填充python None类型。 twitter的dataframe中狗的name字段None为字符串格式，需要修改为python中None。\n",
    "\n",
    "#### 处理方法：去掉name字段含有a,an,a,such,quite,the等。转变str的None格式为python None格式"
   ]
  },
  {
   "cell_type": "code",
   "execution_count": 488,
   "metadata": {},
   "outputs": [],
   "source": [
    "names_to_remove = [x for x in twitter_temp[\"name\"].unique().tolist() if x.islower()]\n",
    "twitter_temp.name = twitter_temp[\"name\"].apply(lambda x: None if x in ['None']+names_to_remove else x)"
   ]
  },
  {
   "cell_type": "code",
   "execution_count": 489,
   "metadata": {
    "scrolled": false
   },
   "outputs": [
    {
     "name": "stdout",
     "output_type": "stream",
     "text": [
      "0     Phineas\n",
      "1       Tilly\n",
      "2      Archie\n",
      "3       Darla\n",
      "4    Franklin\n",
      "5        None\n",
      "6         Jax\n",
      "7        None\n",
      "8        Zoey\n",
      "9      Cassie\n",
      "Name: name, dtype: object\n",
      "None <class 'NoneType'>\n"
     ]
    }
   ],
   "source": [
    "#验证是否清除成功\n",
    "print(twitter_temp.name.head(10))\n",
    "print(twitter_temp.name[5],type(twitter_temp.name[5]))"
   ]
  },
  {
   "cell_type": "markdown",
   "metadata": {},
   "source": [
    "### 清洗数据3\n",
    "#### 对应数据质量问题4：twitter的dataframe中timestamp、retweeted_status_timestamp应该为时间格式。\n",
    "#### 处理方法：retweeted_status_timestamp列已经去除，就不处理。把timestamp列转变为datatime用to_datatime函数\n"
   ]
  },
  {
   "cell_type": "code",
   "execution_count": 490,
   "metadata": {},
   "outputs": [],
   "source": [
    "twitter_temp.timestamp = pd.to_datetime(twitter_temp['timestamp'].apply(lambda x: x[0:19]),\n",
    "                                               format=\"%Y-%m-%d %H:%M:%S\")\n"
   ]
  },
  {
   "cell_type": "code",
   "execution_count": 491,
   "metadata": {},
   "outputs": [
    {
     "data": {
      "text/plain": [
       "dtype('<M8[ns]')"
      ]
     },
     "execution_count": 491,
     "metadata": {},
     "output_type": "execute_result"
    }
   ],
   "source": [
    "#验证是否清除成功\n",
    "twitter_temp.timestamp.dtype"
   ]
  },
  {
   "cell_type": "markdown",
   "metadata": {},
   "source": [
    "### 清洗数据4\n",
    "#### 对应数据质量问题5：twitter的dataframe中doggo、floofer、pupper、puppo中None不是str应该为None格式\n",
    "#### 处理方法：twitter的dataframe中doggo、floofer、pupper、puppo转变为NaN格式。"
   ]
  },
  {
   "cell_type": "code",
   "execution_count": 492,
   "metadata": {},
   "outputs": [],
   "source": [
    "twitter_temp.puppo = twitter_temp.puppo.apply(lambda x: None if x=='None' else x)\n",
    "twitter_temp.doggo = twitter_temp.doggo.apply(lambda x: None if x=='None' else x)\n",
    "twitter_temp.floofer = twitter_temp.floofer.apply(lambda x: None if x=='None' else x)\n",
    "twitter_temp.pupper = twitter_temp.pupper.apply(lambda x: None if x=='None' else x)"
   ]
  },
  {
   "cell_type": "code",
   "execution_count": 493,
   "metadata": {},
   "outputs": [
    {
     "name": "stdout",
     "output_type": "stream",
     "text": [
      "<class 'NoneType'>\n",
      "None\n",
      "2097\n"
     ]
    }
   ],
   "source": [
    "#验证是否清除成功\n",
    "print(type(twitter_temp.puppo[1]))\n",
    "print(twitter_temp.puppo[1])\n",
    "print(len(twitter_temp))"
   ]
  },
  {
   "cell_type": "markdown",
   "metadata": {},
   "source": [
    "### 清洗数据5\n",
    "#### 对应数据质量问题6：twitter的dataframe中rating_numerator、rating_denominator存在异常值，需清除\n",
    "#### 处理方法：清除明显异常的行数据"
   ]
  },
  {
   "cell_type": "code",
   "execution_count": 494,
   "metadata": {},
   "outputs": [
    {
     "name": "stdout",
     "output_type": "stream",
     "text": [
      "[  13   12   14    5   11    6   10    0   84   24   75   27    3    7    8\n",
      "    9    4  165 1776  204   50   99   80   45   60   44  121   26    2  144\n",
      "   88    1  420]\n",
      "[ 10  70   7 150  11 170  20  50  90  80  40 110 120   2]\n"
     ]
    }
   ],
   "source": [
    "print(twitter_temp.rating_numerator.unique())\n",
    "print(twitter_temp.rating_denominator.unique())"
   ]
  },
  {
   "cell_type": "code",
   "execution_count": 495,
   "metadata": {},
   "outputs": [],
   "source": [
    "twitter_temp = twitter_temp[(twitter_temp.rating_numerator>8)&(twitter_temp.rating_numerator<15)]\n",
    "\n",
    "twitter_temp = twitter_temp[twitter_temp.rating_denominator == 10]"
   ]
  },
  {
   "cell_type": "code",
   "execution_count": 496,
   "metadata": {},
   "outputs": [
    {
     "name": "stdout",
     "output_type": "stream",
     "text": [
      "[13 12 14 11 10  9]\n",
      "[10]\n"
     ]
    }
   ],
   "source": [
    "#验证是否清除成功\n",
    "print(twitter_temp.rating_numerator.unique())\n",
    "print(twitter_temp.rating_denominator.unique())"
   ]
  },
  {
   "cell_type": "markdown",
   "metadata": {},
   "source": [
    "### 清洗数据6\n",
    "#### 对应数据质量问题7：twitter_extra的dataframe中retweet_count为0的异常值\n",
    "#### 处理方法：清除retweet_count为0的异常值"
   ]
  },
  {
   "cell_type": "code",
   "execution_count": 497,
   "metadata": {},
   "outputs": [],
   "source": [
    "twitter_extra = twitter_extra[twitter_extra.retweet_count > 0]"
   ]
  },
  {
   "cell_type": "code",
   "execution_count": 498,
   "metadata": {},
   "outputs": [
    {
     "name": "stdout",
     "output_type": "stream",
     "text": [
      "0\n"
     ]
    }
   ],
   "source": [
    "#验证是否清除成功\n",
    "print(len(twitter_extra[twitter_extra.retweet_count == 0]))"
   ]
  },
  {
   "cell_type": "markdown",
   "metadata": {},
   "source": [
    "### 清洗数据7\n",
    "#### 对应数据质量问题8：image_predictions的dataframe中p1、p2、p3中明显错误的异常值\n",
    "#### 处理方法：p1、p2、p3中为dog的话，p1_dog、p2_dog、p3_dog中为Ture，根据这个清除都为False的选项"
   ]
  },
  {
   "cell_type": "code",
   "execution_count": 499,
   "metadata": {},
   "outputs": [],
   "source": [
    "image_predictions_temp = image_predictions\n",
    "image_predictionstemp = image_predictions_temp[(image_predictions_temp.p1_dog == True)|(image_predictions_temp.p2_dog == True)|(image_predictions_temp.p3_dog == True)]"
   ]
  },
  {
   "cell_type": "code",
   "execution_count": 500,
   "metadata": {
    "scrolled": true
   },
   "outputs": [
    {
     "name": "stdout",
     "output_type": "stream",
     "text": [
      "                       p1                  p2                   p3\n",
      "0  Welsh_springer_spaniel              collie    Shetland_sheepdog\n",
      "1                 redbone  miniature_pinscher  Rhodesian_ridgeback\n",
      "2         German_shepherd            malinois           bloodhound\n",
      "3     Rhodesian_ridgeback             redbone   miniature_pinscher\n",
      "4      miniature_pinscher          Rottweiler             Doberman\n",
      "0\n"
     ]
    }
   ],
   "source": [
    "#验证是否清除成功\n",
    "print(image_predictions_temp[[\"p1\",\"p2\",\"p3\"]].head(5))\n",
    "print(len(image_predictions_temp[((image_predictions_temp.p1_dog==False) &\n",
    "                  (image_predictions_temp.p2_dog==False) & \n",
    "                  (image_predictions_temp.p3_dog==False))]))"
   ]
  },
  {
   "cell_type": "markdown",
   "metadata": {},
   "source": [
    "### 清洗数据8\n",
    "#### 对应数据质量问题9：twitter的dataframe中source含有html元素，需要去掉\n",
    "#### 处理方法：提取source中html元素，提取相应有价值信息。"
   ]
  },
  {
   "cell_type": "code",
   "execution_count": 501,
   "metadata": {},
   "outputs": [],
   "source": [
    "def get_url(x):\n",
    "    return re.findall('nofollow\">(.*?)<',twitter_temp.source[1])[0]\n",
    "twitter_temp.source = twitter_temp.source.apply(get_url)"
   ]
  },
  {
   "cell_type": "code",
   "execution_count": 502,
   "metadata": {},
   "outputs": [
    {
     "data": {
      "text/plain": [
       "0    Twitter for iPhone\n",
       "1    Twitter for iPhone\n",
       "2    Twitter for iPhone\n",
       "3    Twitter for iPhone\n",
       "4    Twitter for iPhone\n",
       "Name: source, dtype: object"
      ]
     },
     "execution_count": 502,
     "metadata": {},
     "output_type": "execute_result"
    }
   ],
   "source": [
    "#验证是否清除成功\n",
    "twitter_temp.source.head()"
   ]
  },
  {
   "cell_type": "markdown",
   "metadata": {},
   "source": [
    "### 清洗数据10\n",
    "#### 对应整洁问题2：twitter的dataframe中expanded_urls含有多个url，需要清理掉\n",
    "#### 处理方法：多个url只保留1个，其余清除"
   ]
  },
  {
   "cell_type": "code",
   "execution_count": 503,
   "metadata": {},
   "outputs": [],
   "source": [
    "def clean_urls(x):\n",
    "    if pd.isnull(x):\n",
    "        return x\n",
    "    else:\n",
    "        a = x.split(',')\n",
    "        return a[len(a)-1]\n",
    "    \n",
    "twitter_temp[\"expanded_urls\"] = twitter_temp[\"expanded_urls\"].apply(lambda x: clean_urls(x))"
   ]
  },
  {
   "cell_type": "code",
   "execution_count": 504,
   "metadata": {},
   "outputs": [
    {
     "data": {
      "text/plain": [
       "'https://twitter.com/dog_rates/status/891327558926688256/photo/1'"
      ]
     },
     "execution_count": 504,
     "metadata": {},
     "output_type": "execute_result"
    }
   ],
   "source": [
    "#验证是否清除成功\n",
    "twitter_temp.expanded_urls[4]"
   ]
  },
  {
   "cell_type": "markdown",
   "metadata": {},
   "source": [
    "### 清洗数据11\n",
    "#### 对应整洁问题3：twitter的dataframe中doggo、floofer、pupper、puppo需要合并成1列\n",
    "#### 处理方法：合并为1列，合并过程中会有一些损失。"
   ]
  },
  {
   "cell_type": "code",
   "execution_count": 505,
   "metadata": {},
   "outputs": [],
   "source": [
    "twitter_temp1 = twitter_temp\n",
    "twitter_temp['growth']=twitter_temp['puppo'].fillna(twitter_temp['pupper']).fillna(twitter_temp['doggo']).fillna(twitter_temp['floofer'])"
   ]
  },
  {
   "cell_type": "code",
   "execution_count": 506,
   "metadata": {},
   "outputs": [
    {
     "name": "stdout",
     "output_type": "stream",
     "text": [
      "9 10\n",
      "24 24\n",
      "205 205\n",
      "70 79\n"
     ]
    }
   ],
   "source": [
    "print(len(twitter_temp[twitter_temp.growth == 'floofer']),len(twitter_temp1[twitter_temp1.floofer== 'floofer']))\n",
    "print(len(twitter_temp[twitter_temp.growth == 'puppo']),len(twitter_temp1[twitter_temp1.puppo== 'puppo']))\n",
    "print(len(twitter_temp[twitter_temp.growth == 'pupper']),len(twitter_temp1[twitter_temp1.pupper== 'pupper']))\n",
    "print(len(twitter_temp[twitter_temp.growth == 'doggo']),len(twitter_temp1[twitter_temp1.doggo== 'doggo']))"
   ]
  },
  {
   "cell_type": "markdown",
   "metadata": {},
   "source": [
    "### 清洗数据12\n",
    "#### 数据分析所需：合并image_prediction中p1、p2、p3\n",
    "#### 处理方法：首先需要p1_dog、p2_dog、p3_dog为False时，p1、p2、p3中填充None，p1_conf、p2_conf、p3_conf中填充NaN，然后合并p1、p2、p3和p1_conf、p2_conf、p3_conf"
   ]
  },
  {
   "cell_type": "code",
   "execution_count": 507,
   "metadata": {},
   "outputs": [],
   "source": [
    "image_predictions_temp.loc[image_predictions_temp.p1_dog == False, \"p1\"] = None\n",
    "image_predictions_temp.loc[image_predictions_temp.p2_dog == False, \"p2\"] = None\n",
    "image_predictions_temp.loc[image_predictions_temp.p3_dog == False, \"p3\"] = None\n",
    "image_predictions_temp.loc[image_predictions_temp.p1_dog == False, \"p1_conf\"] = np.nan\n",
    "image_predictions_temp.loc[image_predictions_temp.p2_dog == False, \"p2_conf\"] = np.nan\n",
    "image_predictions_temp.loc[image_predictions_temp.p3_dog == False, \"p3_conf\"] = np.nan"
   ]
  },
  {
   "cell_type": "code",
   "execution_count": 508,
   "metadata": {},
   "outputs": [
    {
     "name": "stdout",
     "output_type": "stream",
     "text": [
      "<class 'pandas.core.frame.DataFrame'>\n",
      "Int64Index: 1751 entries, 0 to 2073\n",
      "Data columns (total 14 columns):\n",
      "tweet_id    1751 non-null int64\n",
      "jpg_url     1751 non-null object\n",
      "img_num     1751 non-null int64\n",
      "p1          1532 non-null object\n",
      "p1_conf     1532 non-null float64\n",
      "p1_dog      1751 non-null bool\n",
      "p2          1553 non-null object\n",
      "p2_conf     1553 non-null float64\n",
      "p2_dog      1751 non-null bool\n",
      "p3          1499 non-null object\n",
      "p3_conf     1499 non-null float64\n",
      "p3_dog      1751 non-null bool\n",
      "p           1751 non-null object\n",
      "p_conf      1751 non-null float64\n",
      "dtypes: bool(3), float64(4), int64(2), object(5)\n",
      "memory usage: 169.3+ KB\n"
     ]
    }
   ],
   "source": [
    "image_predictions_temp.info()"
   ]
  },
  {
   "cell_type": "code",
   "execution_count": 509,
   "metadata": {},
   "outputs": [],
   "source": [
    "image_predictions_temp[\"p\"] =  image_predictions_temp[\"p1\"].fillna(image_predictions_temp[\"p2\"]).fillna(image_predictions_temp[\"p3\"])\n",
    "image_predictions_temp[\"p_conf\"] = image_predictions_temp[\"p1_conf\"].fillna(image_predictions_temp[\"p2_conf\"]).fillna(image_predictions_temp[\"p3_conf\"])\n",
    "\n",
    "image_predictions_temp = image_predictions_temp.drop(['p1','p1_conf','p1_dog','p2','p2_conf','p2_dog','p3','p3_conf','p3_dog'],\n",
    "                                             axis=1)"
   ]
  },
  {
   "cell_type": "code",
   "execution_count": 510,
   "metadata": {},
   "outputs": [
    {
     "name": "stdout",
     "output_type": "stream",
     "text": [
      "<class 'pandas.core.frame.DataFrame'>\n",
      "Int64Index: 1751 entries, 0 to 2073\n",
      "Data columns (total 5 columns):\n",
      "tweet_id    1751 non-null int64\n",
      "jpg_url     1751 non-null object\n",
      "img_num     1751 non-null int64\n",
      "p           1751 non-null object\n",
      "p_conf      1751 non-null float64\n",
      "dtypes: float64(1), int64(2), object(2)\n",
      "memory usage: 82.1+ KB\n"
     ]
    }
   ],
   "source": [
    "image_predictions_temp.info()"
   ]
  },
  {
   "cell_type": "markdown",
   "metadata": {},
   "source": [
    "### 清洗数据13\n",
    "#### 对应整洁问题1：所有的数据在多个dataframe中，需要合并到一个dataframe进行分析。以twitter、twitter_extra、image_prediction中对应id为基准合并。\n",
    "#### 处理方法：合并为1个twitter_archive_master的dataframe"
   ]
  },
  {
   "cell_type": "code",
   "execution_count": 511,
   "metadata": {},
   "outputs": [
    {
     "data": {
      "text/html": [
       "<div>\n",
       "<style scoped>\n",
       "    .dataframe tbody tr th:only-of-type {\n",
       "        vertical-align: middle;\n",
       "    }\n",
       "\n",
       "    .dataframe tbody tr th {\n",
       "        vertical-align: top;\n",
       "    }\n",
       "\n",
       "    .dataframe thead th {\n",
       "        text-align: right;\n",
       "    }\n",
       "</style>\n",
       "<table border=\"1\" class=\"dataframe\">\n",
       "  <thead>\n",
       "    <tr style=\"text-align: right;\">\n",
       "      <th></th>\n",
       "      <th>favorite_count</th>\n",
       "      <th>tweet_id</th>\n",
       "      <th>retweet_count</th>\n",
       "    </tr>\n",
       "  </thead>\n",
       "  <tbody>\n",
       "    <tr>\n",
       "      <th>0</th>\n",
       "      <td>39492</td>\n",
       "      <td>892420643555336193</td>\n",
       "      <td>8842</td>\n",
       "    </tr>\n",
       "    <tr>\n",
       "      <th>1</th>\n",
       "      <td>33786</td>\n",
       "      <td>892177421306343426</td>\n",
       "      <td>6480</td>\n",
       "    </tr>\n",
       "    <tr>\n",
       "      <th>2</th>\n",
       "      <td>25445</td>\n",
       "      <td>891815181378084864</td>\n",
       "      <td>4301</td>\n",
       "    </tr>\n",
       "    <tr>\n",
       "      <th>3</th>\n",
       "      <td>42863</td>\n",
       "      <td>891689557279858688</td>\n",
       "      <td>8925</td>\n",
       "    </tr>\n",
       "    <tr>\n",
       "      <th>4</th>\n",
       "      <td>41016</td>\n",
       "      <td>891327558926688256</td>\n",
       "      <td>9721</td>\n",
       "    </tr>\n",
       "  </tbody>\n",
       "</table>\n",
       "</div>"
      ],
      "text/plain": [
       "   favorite_count            tweet_id  retweet_count\n",
       "0           39492  892420643555336193           8842\n",
       "1           33786  892177421306343426           6480\n",
       "2           25445  891815181378084864           4301\n",
       "3           42863  891689557279858688           8925\n",
       "4           41016  891327558926688256           9721"
      ]
     },
     "execution_count": 511,
     "metadata": {},
     "output_type": "execute_result"
    }
   ],
   "source": [
    "twitter_extra_temp = twitter_extra\n",
    "twitter_extra_temp.columns = ['favorite_count','tweet_id','retweet_count']\n",
    "twitter_extra_temp.head()"
   ]
  },
  {
   "cell_type": "code",
   "execution_count": 512,
   "metadata": {},
   "outputs": [],
   "source": [
    "twitter_temp = twitter_temp.drop(['source','puppo','pupper','floofer','doggo'],axis=1)"
   ]
  },
  {
   "cell_type": "code",
   "execution_count": 513,
   "metadata": {},
   "outputs": [],
   "source": [
    "twitter_archive_master = twitter_temp.merge(image_predictions_temp).merge(twitter_extra_temp)"
   ]
  },
  {
   "cell_type": "code",
   "execution_count": 514,
   "metadata": {},
   "outputs": [
    {
     "name": "stdout",
     "output_type": "stream",
     "text": [
      "<class 'pandas.core.frame.DataFrame'>\n",
      "Int64Index: 1504 entries, 0 to 1503\n",
      "Data columns (total 14 columns):\n",
      "tweet_id              1504 non-null int64\n",
      "timestamp             1504 non-null datetime64[ns]\n",
      "text                  1504 non-null object\n",
      "expanded_urls         1504 non-null object\n",
      "rating_numerator      1504 non-null int64\n",
      "rating_denominator    1504 non-null int64\n",
      "name                  1087 non-null object\n",
      "growth                243 non-null object\n",
      "jpg_url               1504 non-null object\n",
      "img_num               1504 non-null int64\n",
      "p                     1504 non-null object\n",
      "p_conf                1504 non-null float64\n",
      "favorite_count        1504 non-null int64\n",
      "retweet_count         1504 non-null int64\n",
      "dtypes: datetime64[ns](1), float64(1), int64(6), object(6)\n",
      "memory usage: 176.2+ KB\n"
     ]
    }
   ],
   "source": [
    "twitter_archive_master.info()"
   ]
  },
  {
   "cell_type": "code",
   "execution_count": 515,
   "metadata": {},
   "outputs": [
    {
     "name": "stdout",
     "output_type": "stream",
     "text": [
      "<class 'pandas.core.frame.DataFrame'>\n",
      "Int64Index: 1504 entries, 0 to 1503\n",
      "Data columns (total 14 columns):\n",
      "tweet_id              1504 non-null int64\n",
      "timestamp             1504 non-null datetime64[ns]\n",
      "text                  1504 non-null object\n",
      "expanded_urls         1504 non-null object\n",
      "rating_numerator      1504 non-null int64\n",
      "rating_denominator    1504 non-null int64\n",
      "name                  1087 non-null object\n",
      "growth                243 non-null object\n",
      "jpg_url               1504 non-null object\n",
      "img_num               1504 non-null int64\n",
      "p                     1504 non-null object\n",
      "p_conf                1504 non-null float64\n",
      "favorite_count        1504 non-null int64\n",
      "retweet_count         1504 non-null int64\n",
      "dtypes: datetime64[ns](1), float64(1), int64(6), object(6)\n",
      "memory usage: 176.2+ KB\n"
     ]
    }
   ],
   "source": [
    "twitter_archive_master.info()"
   ]
  },
  {
   "cell_type": "markdown",
   "metadata": {},
   "source": [
    "## 4 存储、分析和可视化项目数据"
   ]
  },
  {
   "cell_type": "markdown",
   "metadata": {},
   "source": [
    "### 存储数据\n",
    "#### twitter_archive_master存储到twitter_archive_master.csv中"
   ]
  },
  {
   "cell_type": "code",
   "execution_count": 516,
   "metadata": {},
   "outputs": [],
   "source": [
    "twitter_archive_master.to_csv('twitter_archive_master.csv',index=False)"
   ]
  },
  {
   "cell_type": "markdown",
   "metadata": {},
   "source": [
    "####  读取twitter_archive_master.csv中数据到twitter_master中"
   ]
  },
  {
   "cell_type": "code",
   "execution_count": 4,
   "metadata": {},
   "outputs": [],
   "source": [
    "twitter_master = pd.read_csv('twitter_archive_master.csv')"
   ]
  },
  {
   "cell_type": "code",
   "execution_count": 5,
   "metadata": {},
   "outputs": [
    {
     "name": "stdout",
     "output_type": "stream",
     "text": [
      "<class 'pandas.core.frame.DataFrame'>\n",
      "RangeIndex: 1504 entries, 0 to 1503\n",
      "Data columns (total 14 columns):\n",
      "tweet_id              1504 non-null int64\n",
      "timestamp             1504 non-null object\n",
      "text                  1504 non-null object\n",
      "expanded_urls         1504 non-null object\n",
      "rating_numerator      1504 non-null int64\n",
      "rating_denominator    1504 non-null int64\n",
      "name                  1087 non-null object\n",
      "growth                243 non-null object\n",
      "jpg_url               1504 non-null object\n",
      "img_num               1504 non-null int64\n",
      "p                     1504 non-null object\n",
      "p_conf                1504 non-null float64\n",
      "favorite_count        1504 non-null int64\n",
      "retweet_count         1504 non-null int64\n",
      "dtypes: float64(1), int64(6), object(7)\n",
      "memory usage: 164.6+ KB\n"
     ]
    }
   ],
   "source": [
    "twitter_master.info()"
   ]
  },
  {
   "cell_type": "markdown",
   "metadata": {},
   "source": [
    "### 分析及可视化"
   ]
  },
  {
   "cell_type": "code",
   "execution_count": 6,
   "metadata": {},
   "outputs": [
    {
     "data": {
      "text/html": [
       "<div>\n",
       "<style scoped>\n",
       "    .dataframe tbody tr th:only-of-type {\n",
       "        vertical-align: middle;\n",
       "    }\n",
       "\n",
       "    .dataframe tbody tr th {\n",
       "        vertical-align: top;\n",
       "    }\n",
       "\n",
       "    .dataframe thead th {\n",
       "        text-align: right;\n",
       "    }\n",
       "</style>\n",
       "<table border=\"1\" class=\"dataframe\">\n",
       "  <thead>\n",
       "    <tr style=\"text-align: right;\">\n",
       "      <th></th>\n",
       "      <th>tweet_id</th>\n",
       "      <th>rating_numerator</th>\n",
       "      <th>rating_denominator</th>\n",
       "      <th>img_num</th>\n",
       "      <th>p_conf</th>\n",
       "      <th>favorite_count</th>\n",
       "      <th>retweet_count</th>\n",
       "    </tr>\n",
       "  </thead>\n",
       "  <tbody>\n",
       "    <tr>\n",
       "      <th>count</th>\n",
       "      <td>1.504000e+03</td>\n",
       "      <td>1504.000000</td>\n",
       "      <td>1504.0</td>\n",
       "      <td>1504.000000</td>\n",
       "      <td>1504.000000</td>\n",
       "      <td>1504.000000</td>\n",
       "      <td>1504.000000</td>\n",
       "    </tr>\n",
       "    <tr>\n",
       "      <th>mean</th>\n",
       "      <td>7.444885e+17</td>\n",
       "      <td>11.203457</td>\n",
       "      <td>10.0</td>\n",
       "      <td>1.231383</td>\n",
       "      <td>0.560212</td>\n",
       "      <td>9927.767952</td>\n",
       "      <td>3009.592420</td>\n",
       "    </tr>\n",
       "    <tr>\n",
       "      <th>std</th>\n",
       "      <td>6.858126e+16</td>\n",
       "      <td>1.240732</td>\n",
       "      <td>0.0</td>\n",
       "      <td>0.593533</td>\n",
       "      <td>0.297679</td>\n",
       "      <td>13222.557189</td>\n",
       "      <td>5056.234907</td>\n",
       "    </tr>\n",
       "    <tr>\n",
       "      <th>min</th>\n",
       "      <td>6.660334e+17</td>\n",
       "      <td>9.000000</td>\n",
       "      <td>10.0</td>\n",
       "      <td>1.000000</td>\n",
       "      <td>0.000010</td>\n",
       "      <td>81.000000</td>\n",
       "      <td>15.000000</td>\n",
       "    </tr>\n",
       "    <tr>\n",
       "      <th>25%</th>\n",
       "      <td>6.804916e+17</td>\n",
       "      <td>10.000000</td>\n",
       "      <td>10.0</td>\n",
       "      <td>1.000000</td>\n",
       "      <td>0.316669</td>\n",
       "      <td>2423.750000</td>\n",
       "      <td>703.000000</td>\n",
       "    </tr>\n",
       "    <tr>\n",
       "      <th>50%</th>\n",
       "      <td>7.248777e+17</td>\n",
       "      <td>11.000000</td>\n",
       "      <td>10.0</td>\n",
       "      <td>1.000000</td>\n",
       "      <td>0.568361</td>\n",
       "      <td>4953.000000</td>\n",
       "      <td>1554.000000</td>\n",
       "    </tr>\n",
       "    <tr>\n",
       "      <th>75%</th>\n",
       "      <td>8.005729e+17</td>\n",
       "      <td>12.000000</td>\n",
       "      <td>10.0</td>\n",
       "      <td>1.000000</td>\n",
       "      <td>0.828943</td>\n",
       "      <td>12579.000000</td>\n",
       "      <td>3488.500000</td>\n",
       "    </tr>\n",
       "    <tr>\n",
       "      <th>max</th>\n",
       "      <td>8.921774e+17</td>\n",
       "      <td>14.000000</td>\n",
       "      <td>10.0</td>\n",
       "      <td>4.000000</td>\n",
       "      <td>0.999956</td>\n",
       "      <td>132318.000000</td>\n",
       "      <td>79116.000000</td>\n",
       "    </tr>\n",
       "  </tbody>\n",
       "</table>\n",
       "</div>"
      ],
      "text/plain": [
       "           tweet_id  rating_numerator  rating_denominator      img_num  \\\n",
       "count  1.504000e+03       1504.000000              1504.0  1504.000000   \n",
       "mean   7.444885e+17         11.203457                10.0     1.231383   \n",
       "std    6.858126e+16          1.240732                 0.0     0.593533   \n",
       "min    6.660334e+17          9.000000                10.0     1.000000   \n",
       "25%    6.804916e+17         10.000000                10.0     1.000000   \n",
       "50%    7.248777e+17         11.000000                10.0     1.000000   \n",
       "75%    8.005729e+17         12.000000                10.0     1.000000   \n",
       "max    8.921774e+17         14.000000                10.0     4.000000   \n",
       "\n",
       "            p_conf  favorite_count  retweet_count  \n",
       "count  1504.000000     1504.000000    1504.000000  \n",
       "mean      0.560212     9927.767952    3009.592420  \n",
       "std       0.297679    13222.557189    5056.234907  \n",
       "min       0.000010       81.000000      15.000000  \n",
       "25%       0.316669     2423.750000     703.000000  \n",
       "50%       0.568361     4953.000000    1554.000000  \n",
       "75%       0.828943    12579.000000    3488.500000  \n",
       "max       0.999956   132318.000000   79116.000000  "
      ]
     },
     "execution_count": 6,
     "metadata": {},
     "output_type": "execute_result"
    }
   ],
   "source": [
    "twitter_master.describe()"
   ]
  },
  {
   "cell_type": "markdown",
   "metadata": {},
   "source": [
    "#### 1. 提出问题:以时间线展示retweet_count和favorite_count，分析比较两者情况。"
   ]
  },
  {
   "cell_type": "code",
   "execution_count": 529,
   "metadata": {},
   "outputs": [],
   "source": [
    "ts = pd.to_datetime(twitter_master['timestamp'].apply(lambda x: x[0:10]),\n",
    "                                               format=\"%Y-%m-%d\")"
   ]
  },
  {
   "cell_type": "code",
   "execution_count": 540,
   "metadata": {},
   "outputs": [
    {
     "data": {
      "text/plain": [
       "0   2017-08-01\n",
       "1   2017-07-31\n",
       "2   2017-07-30\n",
       "3   2017-07-29\n",
       "4   2017-07-29\n",
       "Name: timestamp, dtype: datetime64[ns]"
      ]
     },
     "execution_count": 540,
     "metadata": {},
     "output_type": "execute_result"
    }
   ],
   "source": [
    "ts.head()"
   ]
  },
  {
   "cell_type": "code",
   "execution_count": 539,
   "metadata": {},
   "outputs": [
    {
     "data": {
      "image/png": "[encoded data removed]",
      "text/plain": [
       "<matplotlib.figure.Figure at 0x1140bc7f0>"
      ]
     },
     "metadata": {},
     "output_type": "display_data"
    }
   ],
   "source": [
    "y41_favorit = twitter_master.favorite_count\n",
    "y41_retweet = twitter_master.retweet_count\n",
    "plt.plot(ts,y41_favorit)\n",
    "plt.plot(ts,y41_retweet)\n",
    "plt.title('retweet_count VS favorite_count')\n",
    "plt.legend()\n",
    "plt.show()"
   ]
  },
  {
   "cell_type": "markdown",
   "metadata": {},
   "source": [
    "#### 1. 得出结论：\n",
    "```\n",
    "(1)retweet_count和favorite_count均有增长趋势\n",
    "(2)favorite_count比retweet_count量高。\n",
    "```"
   ]
  },
  {
   "cell_type": "markdown",
   "metadata": {},
   "source": [
    "#### 2.0 提出问题：想看图片识别准确率0.9以上，top10的狗的品种"
   ]
  },
  {
   "cell_type": "code",
   "execution_count": 557,
   "metadata": {},
   "outputs": [
    {
     "data": {
      "text/html": [
       "<div>\n",
       "<style scoped>\n",
       "    .dataframe tbody tr th:only-of-type {\n",
       "        vertical-align: middle;\n",
       "    }\n",
       "\n",
       "    .dataframe tbody tr th {\n",
       "        vertical-align: top;\n",
       "    }\n",
       "\n",
       "    .dataframe thead th {\n",
       "        text-align: right;\n",
       "    }\n",
       "</style>\n",
       "<table border=\"1\" class=\"dataframe\">\n",
       "  <thead>\n",
       "    <tr style=\"text-align: right;\">\n",
       "      <th></th>\n",
       "      <th>tweet_id</th>\n",
       "      <th>timestamp</th>\n",
       "      <th>text</th>\n",
       "      <th>expanded_urls</th>\n",
       "      <th>rating_numerator</th>\n",
       "      <th>rating_denominator</th>\n",
       "      <th>name</th>\n",
       "      <th>growth</th>\n",
       "      <th>jpg_url</th>\n",
       "      <th>img_num</th>\n",
       "      <th>p_conf</th>\n",
       "      <th>favorite_count</th>\n",
       "      <th>retweet_count</th>\n",
       "    </tr>\n",
       "    <tr>\n",
       "      <th>p</th>\n",
       "      <th></th>\n",
       "      <th></th>\n",
       "      <th></th>\n",
       "      <th></th>\n",
       "      <th></th>\n",
       "      <th></th>\n",
       "      <th></th>\n",
       "      <th></th>\n",
       "      <th></th>\n",
       "      <th></th>\n",
       "      <th></th>\n",
       "      <th></th>\n",
       "      <th></th>\n",
       "    </tr>\n",
       "  </thead>\n",
       "  <tbody>\n",
       "    <tr>\n",
       "      <th>golden_retriever</th>\n",
       "      <td>34</td>\n",
       "      <td>34</td>\n",
       "      <td>34</td>\n",
       "      <td>34</td>\n",
       "      <td>34</td>\n",
       "      <td>34</td>\n",
       "      <td>27</td>\n",
       "      <td>7</td>\n",
       "      <td>34</td>\n",
       "      <td>34</td>\n",
       "      <td>34</td>\n",
       "      <td>34</td>\n",
       "      <td>34</td>\n",
       "    </tr>\n",
       "    <tr>\n",
       "      <th>Pembroke</th>\n",
       "      <td>26</td>\n",
       "      <td>26</td>\n",
       "      <td>26</td>\n",
       "      <td>26</td>\n",
       "      <td>26</td>\n",
       "      <td>26</td>\n",
       "      <td>19</td>\n",
       "      <td>2</td>\n",
       "      <td>26</td>\n",
       "      <td>26</td>\n",
       "      <td>26</td>\n",
       "      <td>26</td>\n",
       "      <td>26</td>\n",
       "    </tr>\n",
       "    <tr>\n",
       "      <th>pug</th>\n",
       "      <td>23</td>\n",
       "      <td>23</td>\n",
       "      <td>23</td>\n",
       "      <td>23</td>\n",
       "      <td>23</td>\n",
       "      <td>23</td>\n",
       "      <td>17</td>\n",
       "      <td>2</td>\n",
       "      <td>23</td>\n",
       "      <td>23</td>\n",
       "      <td>23</td>\n",
       "      <td>23</td>\n",
       "      <td>23</td>\n",
       "    </tr>\n",
       "    <tr>\n",
       "      <th>Samoyed</th>\n",
       "      <td>21</td>\n",
       "      <td>21</td>\n",
       "      <td>21</td>\n",
       "      <td>21</td>\n",
       "      <td>21</td>\n",
       "      <td>21</td>\n",
       "      <td>15</td>\n",
       "      <td>3</td>\n",
       "      <td>21</td>\n",
       "      <td>21</td>\n",
       "      <td>21</td>\n",
       "      <td>21</td>\n",
       "      <td>21</td>\n",
       "    </tr>\n",
       "    <tr>\n",
       "      <th>Labrador_retriever</th>\n",
       "      <td>16</td>\n",
       "      <td>16</td>\n",
       "      <td>16</td>\n",
       "      <td>16</td>\n",
       "      <td>16</td>\n",
       "      <td>16</td>\n",
       "      <td>11</td>\n",
       "      <td>2</td>\n",
       "      <td>16</td>\n",
       "      <td>16</td>\n",
       "      <td>16</td>\n",
       "      <td>16</td>\n",
       "      <td>16</td>\n",
       "    </tr>\n",
       "    <tr>\n",
       "      <th>Pomeranian</th>\n",
       "      <td>16</td>\n",
       "      <td>16</td>\n",
       "      <td>16</td>\n",
       "      <td>16</td>\n",
       "      <td>16</td>\n",
       "      <td>16</td>\n",
       "      <td>13</td>\n",
       "      <td>5</td>\n",
       "      <td>16</td>\n",
       "      <td>16</td>\n",
       "      <td>16</td>\n",
       "      <td>16</td>\n",
       "      <td>16</td>\n",
       "    </tr>\n",
       "    <tr>\n",
       "      <th>French_bulldog</th>\n",
       "      <td>11</td>\n",
       "      <td>11</td>\n",
       "      <td>11</td>\n",
       "      <td>11</td>\n",
       "      <td>11</td>\n",
       "      <td>11</td>\n",
       "      <td>10</td>\n",
       "      <td>2</td>\n",
       "      <td>11</td>\n",
       "      <td>11</td>\n",
       "      <td>11</td>\n",
       "      <td>11</td>\n",
       "      <td>11</td>\n",
       "    </tr>\n",
       "    <tr>\n",
       "      <th>Chihuahua</th>\n",
       "      <td>10</td>\n",
       "      <td>10</td>\n",
       "      <td>10</td>\n",
       "      <td>10</td>\n",
       "      <td>10</td>\n",
       "      <td>10</td>\n",
       "      <td>8</td>\n",
       "      <td>1</td>\n",
       "      <td>10</td>\n",
       "      <td>10</td>\n",
       "      <td>10</td>\n",
       "      <td>10</td>\n",
       "      <td>10</td>\n",
       "    </tr>\n",
       "    <tr>\n",
       "      <th>chow</th>\n",
       "      <td>9</td>\n",
       "      <td>9</td>\n",
       "      <td>9</td>\n",
       "      <td>9</td>\n",
       "      <td>9</td>\n",
       "      <td>9</td>\n",
       "      <td>8</td>\n",
       "      <td>1</td>\n",
       "      <td>9</td>\n",
       "      <td>9</td>\n",
       "      <td>9</td>\n",
       "      <td>9</td>\n",
       "      <td>9</td>\n",
       "    </tr>\n",
       "    <tr>\n",
       "      <th>Blenheim_spaniel</th>\n",
       "      <td>6</td>\n",
       "      <td>6</td>\n",
       "      <td>6</td>\n",
       "      <td>6</td>\n",
       "      <td>6</td>\n",
       "      <td>6</td>\n",
       "      <td>5</td>\n",
       "      <td>1</td>\n",
       "      <td>6</td>\n",
       "      <td>6</td>\n",
       "      <td>6</td>\n",
       "      <td>6</td>\n",
       "      <td>6</td>\n",
       "    </tr>\n",
       "  </tbody>\n",
       "</table>\n",
       "</div>"
      ],
      "text/plain": [
       "                    tweet_id  timestamp  text  expanded_urls  \\\n",
       "p                                                              \n",
       "golden_retriever          34         34    34             34   \n",
       "Pembroke                  26         26    26             26   \n",
       "pug                       23         23    23             23   \n",
       "Samoyed                   21         21    21             21   \n",
       "Labrador_retriever        16         16    16             16   \n",
       "Pomeranian                16         16    16             16   \n",
       "French_bulldog            11         11    11             11   \n",
       "Chihuahua                 10         10    10             10   \n",
       "chow                       9          9     9              9   \n",
       "Blenheim_spaniel           6          6     6              6   \n",
       "\n",
       "                    rating_numerator  rating_denominator  name  growth  \\\n",
       "p                                                                        \n",
       "golden_retriever                  34                  34    27       7   \n",
       "Pembroke                          26                  26    19       2   \n",
       "pug                               23                  23    17       2   \n",
       "Samoyed                           21                  21    15       3   \n",
       "Labrador_retriever                16                  16    11       2   \n",
       "Pomeranian                        16                  16    13       5   \n",
       "French_bulldog                    11                  11    10       2   \n",
       "Chihuahua                         10                  10     8       1   \n",
       "chow                               9                   9     8       1   \n",
       "Blenheim_spaniel                   6                   6     5       1   \n",
       "\n",
       "                    jpg_url  img_num  p_conf  favorite_count  retweet_count  \n",
       "p                                                                            \n",
       "golden_retriever         34       34      34              34             34  \n",
       "Pembroke                 26       26      26              26             26  \n",
       "pug                      23       23      23              23             23  \n",
       "Samoyed                  21       21      21              21             21  \n",
       "Labrador_retriever       16       16      16              16             16  \n",
       "Pomeranian               16       16      16              16             16  \n",
       "French_bulldog           11       11      11              11             11  \n",
       "Chihuahua                10       10      10              10             10  \n",
       "chow                      9        9       9               9              9  \n",
       "Blenheim_spaniel          6        6       6               6              6  "
      ]
     },
     "execution_count": 557,
     "metadata": {},
     "output_type": "execute_result"
    }
   ],
   "source": [
    "twitter_master_temp = twitter_master[twitter_master.p_conf >= 0.9]\n",
    "dog_favorite = twitter_master_temp.groupby(['p']).count()\n",
    "dog_favorite.sort_values(['favorite_count'], ascending = False).head(10)"
   ]
  },
  {
   "cell_type": "code",
   "execution_count": 559,
   "metadata": {},
   "outputs": [
    {
     "data": {
      "image/png": "[encoded data removed]",
      "text/plain": [
       "<matplotlib.figure.Figure at 0x114f9a128>"
      ]
     },
     "metadata": {},
     "output_type": "display_data"
    }
   ],
   "source": [
    "dog_favorite_top10 = dog_favorite.sort_values(['favorite_count'], ascending = False).head(10)\n",
    "dog_favorite_top10 = dog_favorite_top10.reset_index()\n",
    "dog_favorite_top10.plot(x='p', y='tweet_id', kind='bar', figsize=(10,6), legend=None);\n",
    "plt.ylabel('Tweets')\n",
    "plt.xlabel('Dogs Type')\n",
    "plt.title('Top10 favorite dog');"
   ]
  },
  {
   "cell_type": "markdown",
   "metadata": {},
   "source": [
    "#### 2.得出结论：\n",
    "```\n",
    "top10分别为：golden_retriever、Pembroke、pug、Samoyed、Labrador_retriever、Pomeranian、French_bulldog、Chihuahua、chow、Blenheim_spaniel\n",
    "```"
   ]
  },
  {
   "cell_type": "markdown",
   "metadata": {},
   "source": [
    "#### 3.0 提出问题：所发twitter中哪个成长阶段到dog最多"
   ]
  },
  {
   "cell_type": "code",
   "execution_count": 5,
   "metadata": {},
   "outputs": [],
   "source": [
    "twitter_master_temp2 = twitter_master\n",
    "twitter_master_temp2 = twitter_master_temp2.groupby(['growth']).count()"
   ]
  },
  {
   "cell_type": "code",
   "execution_count": 7,
   "metadata": {},
   "outputs": [
    {
     "data": {
      "image/png": "[encoded data removed]",
      "text/plain": [
       "<matplotlib.figure.Figure at 0x111520ef0>"
      ]
     },
     "metadata": {},
     "output_type": "display_data"
    }
   ],
   "source": [
    "twitter_master_temp2 = twitter_master_temp2.reset_index()\n",
    "twitter_master_temp2.plot(x='growth', y='tweet_id', kind='bar', figsize=(10,6), legend=None);\n",
    "plt.ylabel('Counts')\n",
    "plt.xlabel('Dogs Stage')\n",
    "plt.title('Dog Growth');"
   ]
  },
  {
   "cell_type": "markdown",
   "metadata": {},
   "source": [
    "#### 3.得出结论：\n",
    "```\n",
    "根据数据中反应情结果：pupper>doggo>puppo>floofer\n",
    "```"
   ]
  },
  {
   "cell_type": "code",
   "execution_count": null,
   "metadata": {},
   "outputs": [],
   "source": []
  }
 ],
 "metadata": {
  "kernelspec": {
   "display_name": "Python 3",
   "language": "python",
   "name": "python3"
  },
  "language_info": {
   "codemirror_mode": {
    "name": "ipython",
    "version": 3
   },
   "file_extension": ".py",
   "mimetype": "text/x-python",
   "name": "python",
   "nbconvert_exporter": "python",
   "pygments_lexer": "ipython3",
   "version": "3.6.4"
  }
 },
 "nbformat": 4,
 "nbformat_minor": 2
}
